{
 "cells": [
  {
   "cell_type": "markdown",
   "metadata": {},
   "source": [
    "# Upload files to S3"
   ]
  },
  {
   "cell_type": "markdown",
   "metadata": {},
   "source": [
    "## Get file from GBDX\n"
   ]
  },
  {
   "cell_type": "code",
   "execution_count": null,
   "metadata": {},
   "outputs": [],
   "source": [
    "from gbdxtools.task import env\n",
    "from gbdxtools import CatalogImage\n",
    "%matplotlib inline\n",
    "\n",
    "\n",
    "# 103005007CF91400 amsterdam\n",
    "# 10400100407D9200 amsterdam\n",
    "# 103001009673BC00 Boston\n",
    "# 1030010086B08100 New Delhi\n",
    "# 1030010093A66D00 Boston\n",
    "\n",
    "\n",
    "catalog_id = env.inputs.get('catalog_id', '1030010093A66D00')\n",
    "bbox = env.inputs.get('bbox', '-71.117, 42.379, -71.114, 42.381')\n",
    "\n",
    "image = CatalogImage(catalog_id, band_type=\"MS\", bbox=map(float, bbox.split(\",\")), pansharpen = True)\n",
    "\n",
    "\n",
    "import datetime\n",
    "\n",
    "image_id = catalog_id\n",
    "\n",
    "# Get timestamp\n",
    "time_image = image.metadata[\"image\"][\"acquisitionDate\"] \n",
    "\n",
    "# convert timestamp to datetime timestamp format\n",
    "time_image = datetime.datetime.strptime(time_image, \"%Y-%m-%dT%H:%M:%S.%fZ\")\n",
    "    \n",
    "time_image_str = time_image.strftime('%Y-%m-%d_%H:%M')"
   ]
  },
  {
   "cell_type": "code",
   "execution_count": null,
   "metadata": {},
   "outputs": [],
   "source": [
    "name = 'Camridge_science_building'\n",
    "\n",
    "file_name = \"{}_{}_{}.tif\".format(name,time_image_str,image_id)\n",
    "\n",
    "print(file_name)\n",
    "\n",
    "tif = image.geotiff(\n",
    "    path = file_name\n",
    "                 )\n",
    "\n",
    "print('saved to file')"
   ]
  },
  {
   "cell_type": "markdown",
   "metadata": {},
   "source": [
    "## Load files from folder"
   ]
  },
  {
   "cell_type": "code",
   "execution_count": 28,
   "metadata": {},
   "outputs": [
    {
     "name": "stdout",
     "output_type": "stream",
     "text": [
      "1\n",
      "-------------------------------------\n",
      "['../../TreeTect/data/Cambridge_science_building/tif/Camridge_science_building_2019-06-24_15_52_1030010093A66D00.tif']\n",
      "-------------------------------------\n",
      "../../TreeTect/data/Cambridge_science_building/tif/Camridge_science_building_2019-06-24_15_52_1030010093A66D00.tif\n"
     ]
    }
   ],
   "source": [
    "# find files in folder\n",
    "import glob\n",
    "from pprint import pprint\n",
    "\n",
    "# define path and extention, use * as wildcard\n",
    "path = '../../TreeTect/data/Cambridge_science_building/tif/*.tif'\n",
    "\n",
    "files_path_list = glob.glob(path)\n",
    "file_path = files_path_list[0]\n",
    "\n",
    "print(len(files_path_list))\n",
    "print('-------------------------------------')\n",
    "pprint(files_path_list[0:5])\n",
    "print('-------------------------------------')\n",
    "print(file_path)"
   ]
  },
  {
   "cell_type": "markdown",
   "metadata": {},
   "source": [
    "## Upload any file with progress bar\n"
   ]
  },
  {
   "cell_type": "code",
   "execution_count": null,
   "metadata": {},
   "outputs": [],
   "source": [
    "import boto3, os\n",
    "from tqdm.notebook import tqdm\n",
    "\n",
    "# define location for files\n",
    "bucket_name = \"gcw-img-data\"\n",
    "folder_name = \"worldview\"\n",
    "\n",
    "\n",
    "# loop over imagery to upload\n",
    "# uncomment to us for one large file\n",
    "\n",
    "for file_name in tqdm(raster_files):\n",
    "    \n",
    "    file_name = file_name\n",
    "    path = folder_name + \"/\" + file_name\n",
    "    s3 = boto3.client('s3')\n",
    "\n",
    "    statinfo = os.stat(file_name)\n",
    "\n",
    "    s3.upload_file(file_name, bucket_name, path)"
   ]
  }
 ],
 "metadata": {
  "kernelspec": {
   "display_name": "Python 3",
   "language": "python",
   "name": "python3"
  },
  "language_info": {
   "codemirror_mode": {
    "name": "ipython",
    "version": 3
   },
   "file_extension": ".py",
   "mimetype": "text/x-python",
   "name": "python",
   "nbconvert_exporter": "python",
   "pygments_lexer": "ipython3",
   "version": "3.7.6"
  }
 },
 "nbformat": 4,
 "nbformat_minor": 4
}
