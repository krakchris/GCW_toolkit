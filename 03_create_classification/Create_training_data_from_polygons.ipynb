{
 "cells": [
  {
   "cell_type": "markdown",
   "metadata": {},
   "source": [
    "# Method 1: \n",
    "\n",
    "# Define area and download from GBDX "
   ]
  },
  {
   "cell_type": "code",
   "execution_count": 297,
   "metadata": {},
   "outputs": [],
   "source": [
    "bbox = [115.179, -8.734, 115.183, -8.729 ]\n",
    "\n",
    "x_min = bbox[0]\n",
    "x_max = bbox[2]\n",
    "y_min = bbox[1]\n",
    "y_max = bbox[3]\n",
    "\n",
    "\n",
    "file_name = 'Situ_Denpasar_harbor_no_acomp.tif'"
   ]
  },
  {
   "cell_type": "code",
   "execution_count": 310,
   "metadata": {},
   "outputs": [],
   "source": [
    "# Import image and convert image to UTM projection\n",
    "\n",
    "from gbdxtools.task import env\n",
    "from gbdxtools import CatalogImage\n",
    "%matplotlib inline\n",
    "\n",
    "\n",
    "\n",
    "catalog_id = env.inputs.get('catalog_id', '104001005876CA00')\n",
    "\n",
    "\n",
    "\n",
    "\n",
    "\n",
    "\n",
    "\n",
    "# image = CatalogImage(catalog_id, band_type=\"MS\", bbox=bbox, pansharpen = True, acomp=False)\n",
    "\n",
    "# acquisitionDate = image.metadata[\"image\"][\"acquisitionDate\"]\n",
    "\n",
    "# print(\"  taken on {}\".format(acquisitionDate))\n",
    "\n",
    "\n",
    "# image.plot(w=10, h=10)\n",
    "\n",
    "# # Transform dask array to array\n",
    "# image_array = image.read()\n",
    "# data = image_array\n",
    "\n",
    "# image.geotiff(path=file_name)"
   ]
  },
  {
   "cell_type": "markdown",
   "metadata": {},
   "source": [
    "# Method 2:\n",
    "\n",
    "## Predefined raster and shapes"
   ]
  },
  {
   "cell_type": "code",
   "execution_count": 377,
   "metadata": {},
   "outputs": [],
   "source": [
    "# load libraries\n",
    "from shapely.geometry import Polygon, MultiPolygon\n",
    "from shapely.geometry import Point\n",
    "from shapely.geometry import shape\n",
    "\n",
    "import fiona"
   ]
  },
  {
   "cell_type": "code",
   "execution_count": 379,
   "metadata": {},
   "outputs": [
    {
     "name": "stdout",
     "output_type": "stream",
     "text": [
      "/home/chris/Documents/GreenCityWatch/GCW_toolkit/03_create_classification\n",
      "-------------------------------------\n",
      "['../../TreeTect/data/shapefiles_waterbodies_osm/hand_water/003_Jakarta_hand_water.shp',\n",
      " '../../TreeTect/data/shapefiles_waterbodies_osm/hand_water/001_Jakarta_hand_water.shp',\n",
      " '../../TreeTect/data/shapefiles_waterbodies_osm/hand_water/001_Jakarta_hand_water_buffer.shp',\n",
      " '../../TreeTect/data/shapefiles_waterbodies_osm/hand_water/000_Jakarta_hand_water.shp',\n",
      " '../../TreeTect/data/shapefiles_waterbodies_osm/hand_water/034_Jakarta_hand_water.shp']\n",
      "-------------------------------------\n",
      "../../TreeTect/data/shapefiles_waterbodies_osm/hand_water/003_Jakarta_hand_water.shp\n",
      "003\n"
     ]
    }
   ],
   "source": [
    "## Read polygons from file and apply as gee geometries\n",
    "import fiona\n",
    "from shapely.geometry import shape, MultiPolygon, Polygon\n",
    "import glob\n",
    "from pprint import pprint \n",
    "\n",
    "# current working directory\n",
    "import os\n",
    "cwd = os.getcwd()\n",
    "\n",
    "# find files in shapefile folder\n",
    "shape_file_path = '../../TreeTect/data/shapefiles_waterbodies_osm/hand_water/*.shp'\n",
    "shape_files = glob.glob(shape_file_path)\n",
    "path_water = shape_files[0]\n",
    "nr_search = path_water.split('/')[-1].split('_')[0]\n",
    "\n",
    "print(cwd)\n",
    "print('-------------------------------------')\n",
    "pprint(shape_files)\n",
    "print('-------------------------------------')\n",
    "print(path_water)\n",
    "print(nr_search)"
   ]
  },
  {
   "cell_type": "code",
   "execution_count": 380,
   "metadata": {},
   "outputs": [
    {
     "name": "stdout",
     "output_type": "stream",
     "text": [
      "/home/chris/Documents/GreenCityWatch/GCW_toolkit/03_create_classification\n",
      "-------------------------------------\n",
      "['../../TreeTect/data/shapefiles_waterbodies_osm/hand_nonwater/003_Jakarta_hand_nonwater.shp']\n",
      "-------------------------------------\n",
      "../../TreeTect/data/shapefiles_waterbodies_osm/hand_nonwater/003_Jakarta_hand_nonwater.shp\n"
     ]
    }
   ],
   "source": [
    "# find files in shapefile folder\n",
    "shape_file_path = '../../TreeTect/data/shapefiles_waterbodies_osm/hand_nonwater/{}*.shp'.format(nr_search)\n",
    "shape_files = glob.glob(shape_file_path)\n",
    "path_nonwater = shape_files[0]\n",
    "\n",
    "\n",
    "print(cwd)\n",
    "print('-------------------------------------')\n",
    "pprint(shape_files)\n",
    "print('-------------------------------------')\n",
    "print(path_nonwater)\n"
   ]
  },
  {
   "cell_type": "code",
   "execution_count": 381,
   "metadata": {},
   "outputs": [
    {
     "name": "stdout",
     "output_type": "stream",
     "text": [
      "Polygon\n"
     ]
    }
   ],
   "source": [
    "shape_list = []\n",
    "\n",
    "for pol in fiona.open(path_water):\n",
    "    \n",
    "    if pol['geometry'] != None:\n",
    "        print(pol['geometry']['type'])\n",
    "        shape_list.append(pol)"
   ]
  },
  {
   "cell_type": "code",
   "execution_count": 382,
   "metadata": {},
   "outputs": [
    {
     "data": {
      "image/svg+xml": [
       "<svg xmlns=\"http://www.w3.org/2000/svg\" xmlns:xlink=\"http://www.w3.org/1999/xlink\" width=\"100.0\" height=\"100.0\" viewBox=\"106.83424789794368 -6.198280208547021 0.000805842694106218 0.000819566565450458\" preserveAspectRatio=\"xMinYMin meet\"><g transform=\"matrix(1,0,0,-1,0,-12.395740850528592)\"><g><path fill-rule=\"evenodd\" fill=\"#66cc99\" stroke=\"#555555\" stroke-width=\"1.639133130900916e-05\" opacity=\"0.6\" d=\"M 106.83434049575557,-6.197580076188314 L 106.83437116034122,-6.197579970082483 L 106.83438471836253,-6.1975594639716025 L 106.83442385965337,-6.197547394000309 L 106.8344202993286,-6.197503078061351 L 106.8344628477895,-6.19749099629881 L 106.83450901548481,-6.197540279595423 L 106.83464691183545,-6.197512523465553 L 106.834660634794,-6.1975397548989415 L 106.8347459084381,-6.19756673870398 L 106.8348295963343,-6.197627826634016 L 106.83484501110978,-6.197651642338054 L 106.83485881656942,-6.197702742533145 L 106.83489470386608,-6.197735012036862 L 106.83490342213858,-6.197792949567339 L 106.83492227945376,-6.197826982945956 L 106.83494795112553,-6.197860992735443 L 106.83499069993361,-6.197906877936429 L 106.8350231447199,-6.197928929746783 L 106.83502338632056,-6.197998831140491 L 106.8350115849459,-6.198034675574563 L 106.83498440412743,-6.19805693378771 L 106.83499308117574,-6.198102936927155 L 106.83500340288795,-6.198131885048054 L 106.83497791976184,-6.198152432452906 L 106.8349967771006,-6.198186465823252 L 106.83498495804506,-6.198217195522068 L 106.83496453854157,-6.1982240859387225 L 106.83495439360969,-6.1982462851797955 L 106.83490840847361,-6.198249854229782 L 106.83490150572621,-6.198224304136339 L 106.83485202502504,-6.198202311292383 L 106.83482986657533,-6.19819897812787 L 106.83481389569856,-6.198178574218427 L 106.83479354689844,-6.198205923575672 L 106.83480060029716,-6.198207074976366 L 106.83477370114606,-6.198214516932251 L 106.83474654976742,-6.198245299700164 L 106.83470565182661,-6.1982420313936215 L 106.83466468318379,-6.198218304135354 L 106.83461692375124,-6.1982014201072735 L 106.83459478886634,-6.198204906582233 L 106.83454190688317,-6.198184630409717 L 106.83451459642389,-6.198169380531387 L 106.83450079096937,-6.198118280321976 L 106.83443428617021,-6.198099756213249 L 106.83439329987385,-6.198070914189133 L 106.83434719103153,-6.198038680020689 L 106.8343573065378,-6.198007956221361 L 106.83432989595333,-6.197963722813171 L 106.8343007876752,-6.197921200209801 L 106.83428019145768,-6.197876943216655 L 106.83427825226092,-6.197808752600896 L 106.83428143561345,-6.197743954126334 L 106.83430333488026,-6.19767227115953 L 106.8343218681981,-6.1976125343719195 L 106.83434049575557,-6.197580076188314 z M 106.8344790299096,-6.197901260836348 L 106.83445853578768,-6.197886555672468 L 106.8344347091048,-6.1978934578578215 L 106.83443587232098,-6.19790141018646 L 106.83443024867108,-6.1979173423552645 L 106.83442002320929,-6.197916241118707 L 106.83439392114488,-6.197922014554715 L 106.83438603782254,-6.197941364409086 L 106.83439863291535,-6.197970872996544 L 106.83442140634708,-6.197987843518549 L 106.83444866377626,-6.197987749192004 L 106.83446102323745,-6.197949061273382 L 106.83445187459286,-6.197930906981415 L 106.83446544046988,-6.197912674083785 L 106.8344790299096,-6.197901260836348 z M 106.8344790299096,-6.197901260836348 L 106.8344915857323,-6.1979194033366865 L 106.83449730756293,-6.197931886376927 L 106.83449737040014,-6.1979500721107685 L 106.83448378488731,-6.197962621967287 L 106.83447594869618,-6.197995611122705 L 106.83450323361656,-6.198003473051743 L 106.83453613825665,-6.197994266201588 L 106.83455206984273,-6.1980033040410625 L 106.8345476172701,-6.1980294617547695 L 106.83453401212002,-6.198036328571106 L 106.83450794539974,-6.198052331489256 L 106.83452961060385,-6.19807726219336 L 106.83453991069118,-6.198099958985114 L 106.83458193649466,-6.198100950160737 L 106.83459777382149,-6.198082709398568 L 106.83462503125283,-6.198082615061521 L 106.83465344797655,-6.198089336441812 L 106.8346853190134,-6.198109685326628 L 106.83469893201769,-6.1981050917228995 L 106.83470568352953,-6.198086882405781 L 106.8347295494924,-6.198091346288882 L 106.83474095389022,-6.198104946277492 L 106.83475688940983,-6.198115120716958 L 106.83477507281435,-6.198118467644511 L 106.83477398029646,-6.198130974265577 L 106.83477065167833,-6.198153718222472 L 106.83480017270712,-6.198151342796809 L 106.83482853443986,-6.198142151651943 L 106.83484554676501,-6.198135273034685 L 106.83487620351748,-6.198132893673941 L 106.83490340987906,-6.198118023416558 L 106.83490788207426,-6.198097548745394 L 106.8349010048648,-6.198079386603856 L 106.83490897066078,-6.198083905516887 L 106.83492367617539,-6.1980668052878425 L 106.83492815622652,-6.198048603832998 L 106.83491108890976,-6.198039569938464 L 106.83490658528835,-6.198050951744727 L 106.83487478103048,-6.198049925212699 L 106.83486788418226,-6.198026080029563 L 106.83486669739007,-6.1980113080551575 L 106.83487799572725,-6.1979942196211395 L 106.83486545953221,-6.197981760175067 L 106.83484046177736,-6.197978436836243 L 106.83484383360239,-6.197968195569543 L 106.83485854304564,-6.197952231950703 L 106.83486984923866,-6.197937416733366 L 106.83485392943653,-6.197931788728853 L 106.83484706008866,-6.197915899801624 L 106.83482884526762,-6.19790346000937 L 106.83478907522513,-6.197897914554168 L 106.83477996977922,-6.197892262960956 L 106.83477424008778,-6.19787750670921 L 106.83477755692391,-6.197851352928053 L 106.83475932246735,-6.197833230091237 L 106.83473096467502,-6.197843557836205 L 106.83470710265163,-6.197840230558088 L 106.83470135725224,-6.197820927871795 L 106.83468537853965,-6.19779825073687 L 106.8346989561878,-6.1977834276612755 L 106.83469776154745,-6.197766382468331 L 106.83466598872411,-6.197774448784699 L 106.83466946659765,-6.197794895941512 L 106.83465926863222,-6.197801750966883 L 106.83463429052227,-6.197804110656853 L 106.83461503817027,-6.19782008999256 L 106.83459911051756,-6.197812188761907 L 106.83457626639849,-6.197774759297094 L 106.8345217358564,-6.197770401522029 L 106.83448995909986,-6.1977773312203155 L 106.83447172072634,-6.197758071761525 L 106.83445465342383,-6.197749037847127 L 106.83439449923095,-6.197760612226801 L 106.83439477019503,-6.197839038208951 L 106.83441294180972,-6.197838975327159 L 106.83444704107683,-6.1978468136809255 L 106.8344697870125,-6.197855827943344 L 106.83448008316324,-6.1978773881300775 L 106.83448126208899,-6.197889886891934 L 106.8344790299096,-6.197901260836348 z M 106.83456923604,-6.197712269421677 L 106.83457363363097,-6.197670199192023 L 106.83455995387087,-6.1976554704478835 L 106.83454864374366,-6.197669149051204 L 106.83453959328516,-6.197679409968796 L 106.83454646654712,-6.1976964355121 L 106.83454424222336,-6.1977100826729 L 106.83456923604,-6.197712269421677 z M 106.83462899747624,-6.197587034195538 L 106.83463119430651,-6.197565430777058 L 106.83460734800474,-6.197566649923788 L 106.83460854656722,-6.197584831726362 L 106.83462673780791,-6.197590451881297 L 106.83462899747624,-6.197587034195538 z M 106.834627319068,-6.197758669908751 L 106.83465337791607,-6.1977403937733175 L 106.83465219506023,-6.1977267584045945 L 106.83467264597458,-6.197728960870424 L 106.83468062354623,-6.197736889613828 L 106.83473630551761,-6.197745789875306 L 106.83478170311481,-6.197736539777224 L 106.83480325047559,-6.197727372225085 L 106.83479519041875,-6.197695574712135 L 106.83474631495055,-6.197684377654687 L 106.83472129364354,-6.197674234656448 L 106.83471781184268,-6.197652650892018 L 106.83473138163188,-6.197635554600413 L 106.83472900806329,-6.197606010647791 L 106.8347175408391,-6.197574224923577 L 106.83469138774039,-6.197565222461063 L 106.8346891516376,-6.1975754597964965 L 106.83469606810432,-6.1976049880276864 L 106.83469387520462,-6.197627728053931 L 106.8346928062477,-6.197647054324838 L 106.83469398910377,-6.197660689693238 L 106.83467474461322,-6.197678942245664 L 106.83465091401705,-6.197684707828927 L 106.83462031619652,-6.1977041362937735 L 106.83459763703308,-6.197714444377882 L 106.8345908894455,-6.19773379030188 L 106.83459663876677,-6.197754229599211 L 106.83461140319967,-6.19775417850288 L 106.834627319068,-6.197758669908751 z\" /></g></g></svg>"
      ],
      "text/plain": [
       "<shapely.geometry.multipolygon.MultiPolygon at 0x7f6c6f24dc90>"
      ]
     },
     "execution_count": 382,
     "metadata": {},
     "output_type": "execute_result"
    }
   ],
   "source": [
    "# load polygons\n",
    "\n",
    "shape_crs = fiona.open(path_water)\n",
    "water_Multi = MultiPolygon([shape(pol['geometry']) for pol in shape_list]) \n",
    "\n",
    "min_x, min_y, max_x, max_y = water_Multi.bounds\n",
    "\n",
    "water_Multi"
   ]
  },
  {
   "cell_type": "code",
   "execution_count": 383,
   "metadata": {},
   "outputs": [
    {
     "data": {
      "text/plain": [
       "'EPSG:32748'"
      ]
     },
     "execution_count": 383,
     "metadata": {},
     "output_type": "execute_result"
    }
   ],
   "source": [
    "# get a projected coordinate system for plotting\n",
    "EPSG = 32700-round((45+min_y)/90,0)*100+round((183+min_x)/6,0)\n",
    "UTM_EPSG_code ='EPSG:%i'  % (EPSG)\n",
    "\n",
    "UTM_EPSG_code"
   ]
  },
  {
   "cell_type": "code",
   "execution_count": 384,
   "metadata": {},
   "outputs": [
    {
     "data": {
      "image/svg+xml": [
       "<svg xmlns=\"http://www.w3.org/2000/svg\" xmlns:xlink=\"http://www.w3.org/1999/xlink\" width=\"100.0\" height=\"100.0\" viewBox=\"106.83329870410778 -6.199339950225789 0.0028523055730715896 0.0029610790646490415\" preserveAspectRatio=\"xMinYMin meet\"><g transform=\"matrix(1,0,0,-1,0,-12.395718821386929)\"><g><path fill-rule=\"evenodd\" fill=\"#66cc99\" stroke=\"#555555\" stroke-width=\"5.9221581292980826e-05\" opacity=\"0.6\" d=\"M 106.83342203707701,-6.196520457128644 L 106.83602422734259,-6.1964885407561265 L 106.83604134008586,-6.199230280630802 L 106.83340837370277,-6.199193571464542 L 106.83342203707701,-6.196520457128644 z M 106.83480060029716,-6.198207074976366 L 106.83482082004588,-6.198210375659288 L 106.83482986657533,-6.19819897812787 L 106.83485202502504,-6.198202311292383 L 106.83490150572621,-6.198224304136339 L 106.83490840847361,-6.198249854229782 L 106.83495439360969,-6.1982462851797955 L 106.83496453854157,-6.1982240859387225 L 106.83498495804506,-6.198217195522068 L 106.8349967771006,-6.198186465823252 L 106.83497791976184,-6.198152432452906 L 106.83500340288795,-6.198131885048054 L 106.83499308117574,-6.198102936927155 L 106.83498440412743,-6.19805693378771 L 106.8350115849459,-6.198034675574563 L 106.83502338632056,-6.197998831140491 L 106.8350231447199,-6.197928929746783 L 106.83499069993361,-6.197906877936429 L 106.83494795112553,-6.197860992735443 L 106.83492227945376,-6.197826982945956 L 106.83490342213858,-6.197792949567339 L 106.83489470386608,-6.197735012036862 L 106.83485881656942,-6.197702742533145 L 106.83484501110978,-6.197651642338054 L 106.8348295963343,-6.197627826634016 L 106.8347459084381,-6.19756673870398 L 106.834660634794,-6.1975397548989415 L 106.83464691183545,-6.197512523465553 L 106.83450901548481,-6.197540279595423 L 106.8344628477895,-6.19749099629881 L 106.8344202993286,-6.197503078061351 L 106.83442385965337,-6.197547394000309 L 106.83438471836253,-6.1975594639716025 L 106.83437116034122,-6.197579970082483 L 106.83434049575557,-6.197580076188314 L 106.8343218681981,-6.1976125343719195 L 106.83430333488026,-6.19767227115953 L 106.83428143561345,-6.197743954126334 L 106.83427825226092,-6.197808752600896 L 106.83428019145768,-6.197876943216655 L 106.8343007876752,-6.197921200209801 L 106.83432989595333,-6.197963722813171 L 106.8343573065378,-6.198007956221361 L 106.83434719103153,-6.198038680020689 L 106.83439329987385,-6.198070914189133 L 106.83443428617021,-6.198099756213249 L 106.83450079096937,-6.198118280321976 L 106.83451459642389,-6.198169380531387 L 106.83454190688317,-6.198184630409717 L 106.83459478886634,-6.198204906582233 L 106.83461692375124,-6.1982014201072735 L 106.83466468318379,-6.198218304135354 L 106.83470565182661,-6.1982420313936215 L 106.83474654976742,-6.198245299700164 L 106.83477370114606,-6.198214516932251 L 106.83480060029716,-6.198207074976366 z\" /></g></g></svg>"
      ],
      "text/plain": [
       "<shapely.geometry.multipolygon.MultiPolygon at 0x7f6c6f0aa810>"
      ]
     },
     "execution_count": 384,
     "metadata": {},
     "output_type": "execute_result"
    }
   ],
   "source": [
    "# load polygons\n",
    "\n",
    "shape_crs = fiona.open(path_nonwater)\n",
    "non_water_Multi = MultiPolygon([shape(pol['geometry']) for pol in fiona.open(path_nonwater)]) \n",
    "\n",
    "min_x, min_y, max_x, max_y = non_water_Multi.bounds\n",
    "\n",
    "non_water_Multi"
   ]
  },
  {
   "cell_type": "code",
   "execution_count": 385,
   "metadata": {},
   "outputs": [],
   "source": [
    "def random_points_within(poly, num_points):\n",
    "    min_x, min_y, max_x, max_y = poly.bounds\n",
    "\n",
    "    points = []\n",
    "\n",
    "    while len(points) < num_points:\n",
    "        random_point = Point([random.uniform(min_x, max_x), random.uniform(min_y, max_y)])\n",
    "        if (random_point.within(poly)):\n",
    "            points.append(random_point)\n",
    "\n",
    "    return points"
   ]
  },
  {
   "cell_type": "code",
   "execution_count": 386,
   "metadata": {},
   "outputs": [
    {
     "data": {
      "image/svg+xml": [
       "<svg xmlns=\"http://www.w3.org/2000/svg\" xmlns:xlink=\"http://www.w3.org/1999/xlink\" width=\"100.0\" height=\"100.0\" viewBox=\"106.83329870410778 -6.199339950225789 0.0028523055730715896 0.0029610790646490415\" preserveAspectRatio=\"xMinYMin meet\"><g transform=\"matrix(1,0,0,-1,0,-12.395718821386929)\"><g><path fill-rule=\"evenodd\" fill=\"#66cc99\" stroke=\"#555555\" stroke-width=\"5.9221581292980826e-05\" opacity=\"0.6\" d=\"M 106.83342203707701,-6.196520457128644 L 106.83602422734259,-6.1964885407561265 L 106.83604134008586,-6.199230280630802 L 106.83340837370277,-6.199193571464542 L 106.83342203707701,-6.196520457128644 z M 106.83480060029716,-6.198207074976366 L 106.83482082004588,-6.198210375659288 L 106.83482986657533,-6.19819897812787 L 106.83485202502504,-6.198202311292383 L 106.83490150572621,-6.198224304136339 L 106.83490840847361,-6.198249854229782 L 106.83495439360969,-6.1982462851797955 L 106.83496453854157,-6.1982240859387225 L 106.83498495804506,-6.198217195522068 L 106.8349967771006,-6.198186465823252 L 106.83497791976184,-6.198152432452906 L 106.83500340288795,-6.198131885048054 L 106.83499308117574,-6.198102936927155 L 106.83498440412743,-6.19805693378771 L 106.8350115849459,-6.198034675574563 L 106.83502338632056,-6.197998831140491 L 106.8350231447199,-6.197928929746783 L 106.83499069993361,-6.197906877936429 L 106.83494795112553,-6.197860992735443 L 106.83492227945376,-6.197826982945956 L 106.83490342213858,-6.197792949567339 L 106.83489470386608,-6.197735012036862 L 106.83485881656942,-6.197702742533145 L 106.83484501110978,-6.197651642338054 L 106.8348295963343,-6.197627826634016 L 106.8347459084381,-6.19756673870398 L 106.834660634794,-6.1975397548989415 L 106.83464691183545,-6.197512523465553 L 106.83450901548481,-6.197540279595423 L 106.8344628477895,-6.19749099629881 L 106.8344202993286,-6.197503078061351 L 106.83442385965337,-6.197547394000309 L 106.83438471836253,-6.1975594639716025 L 106.83437116034122,-6.197579970082483 L 106.83434049575557,-6.197580076188314 L 106.8343218681981,-6.1976125343719195 L 106.83430333488026,-6.19767227115953 L 106.83428143561345,-6.197743954126334 L 106.83427825226092,-6.197808752600896 L 106.83428019145768,-6.197876943216655 L 106.8343007876752,-6.197921200209801 L 106.83432989595333,-6.197963722813171 L 106.8343573065378,-6.198007956221361 L 106.83434719103153,-6.198038680020689 L 106.83439329987385,-6.198070914189133 L 106.83443428617021,-6.198099756213249 L 106.83450079096937,-6.198118280321976 L 106.83451459642389,-6.198169380531387 L 106.83454190688317,-6.198184630409717 L 106.83459478886634,-6.198204906582233 L 106.83461692375124,-6.1982014201072735 L 106.83466468318379,-6.198218304135354 L 106.83470565182661,-6.1982420313936215 L 106.83474654976742,-6.198245299700164 L 106.83477370114606,-6.198214516932251 L 106.83480060029716,-6.198207074976366 z\" /></g></g></svg>"
      ],
      "text/plain": [
       "<shapely.geometry.multipolygon.MultiPolygon at 0x7f6c6c523290>"
      ]
     },
     "execution_count": 386,
     "metadata": {},
     "output_type": "execute_result"
    }
   ],
   "source": [
    "from shapely.ops import transform\n",
    "from functools import partial\n",
    "import pyproj\n",
    "\n",
    "project = partial(\n",
    "    pyproj.transform,\n",
    "    pyproj.Proj(init='epsg:4326'),\n",
    "    pyproj.Proj(init='epsg:4326'))\n",
    "\n",
    "\n",
    "non_water_Multi_wgs = transform(project, non_water_Multi)\n",
    "water_Multi_wgs = transform(project, water_Multi)\n",
    "\n",
    "non_water_Multi_wgs"
   ]
  },
  {
   "cell_type": "code",
   "execution_count": 387,
   "metadata": {},
   "outputs": [
    {
     "data": {
      "text/plain": [
       "<folium.map.LayerControl at 0x7f6c6f61fcd0>"
      ]
     },
     "execution_count": 387,
     "metadata": {},
     "output_type": "execute_result"
    }
   ],
   "source": [
    "## check data!!\n",
    "# !pip install folium\n",
    "\n",
    "\n",
    "import folium\n",
    "\n",
    "\n",
    "m = folium.Map([water_Multi_wgs.centroid.y, water_Multi_wgs.centroid.x],  zoom_start = 16, \n",
    "               tiles = 'https://{s}.basemaps.cartocdn.com/light_nolabels/{z}/{x}/{y}{r}.png',\n",
    "              attr='CartoDB') #, name = 'cartocdn')\n",
    "\n",
    "folium.TileLayer('https://server.arcgisonline.com/ArcGIS/rest/services/World_Imagery/MapServer/tile/{z}/{y}/{x}',attr='esri', name = 'esri Imagery').add_to(m)\n",
    "\n",
    "\n",
    "# folium.raster_layers.ImageOverlay(\n",
    "#     image=image.rgb(),\n",
    "#     name='image 2017',\n",
    "#     bounds=[[bbox[1], bbox[0]],[bbox[3],bbox[2]]],\n",
    "#     opacity=1,\n",
    "#     interactive=False,\n",
    "#     cross_origin=False,\n",
    "#     zindex=1, \n",
    "#     colormap=lambda x: (0,0,0, x)\n",
    "# ).add_to(m)\n",
    "\n",
    "# folium.raster_layers.ImageOverlay(\n",
    "#     image=classification_plot,\n",
    "#     name='Classification 2017',\n",
    "#     bounds=[[bbox[1], bbox[0]],[bbox[3],bbox[2]]],\n",
    "#     opacity=1,\n",
    "#     interactive=False,\n",
    "#     cross_origin=False,\n",
    "#     zindex=1, \n",
    "#     colormap=lambda x: (0,x,x, 1)\n",
    "# ).add_to(m)\n",
    "\n",
    "\n",
    "folium.Choropleth(water_Multi, name = 'Training set water').add_to(m)\n",
    "\n",
    "folium.Choropleth(non_water_Multi_wgs, name = 'Training set water').add_to(m)\n",
    "\n",
    "\n",
    "# folium.Choropleth(setu_smooth, name = 'Smooth setu delineation').add_to(m)\n",
    "\n",
    "\n",
    "\n",
    "# f_smooth = [0.00001,0.00002,0.00003,0.00004,0.00006,0.00008]\n",
    "\n",
    "# for i in f_smooth:\n",
    "#     setu_smooth = setu_wgs.simplify(i)\n",
    "#     folium.Choropleth(setu_smooth, name = 'smooth setu delineation'.format(i)).add_to(m)\n",
    "# # \n",
    "\n",
    "\n",
    "# I can add marker one by one on the map\n",
    "# for i in range(0,len(data)):\n",
    "#     folium.Marker([data.iloc[i]['lon'], data.iloc[i]['lat']], popup=data.iloc[i]['name']).add_to(m)\n",
    "\n",
    "for point in points_water:\n",
    "    #point_wgs = transform(project, point)\n",
    "    folium.Marker([point.y, point.x]).add_to(m)\n",
    "    \n",
    "    \n",
    "for point in points_non_water:\n",
    "    #point_wgs = transform(project, point)\n",
    "    folium.Marker([point.y, point.x]).add_to(m)\n",
    "\n",
    "folium.LayerControl().add_to(m)\n"
   ]
  },
  {
   "cell_type": "code",
   "execution_count": 388,
   "metadata": {},
   "outputs": [],
   "source": [
    "# view folium map\n",
    "\n",
    "# m"
   ]
  },
  {
   "cell_type": "code",
   "execution_count": 389,
   "metadata": {},
   "outputs": [
    {
     "name": "stdout",
     "output_type": "stream",
     "text": [
      "/home/chris/Documents/GreenCityWatch/GCW_toolkit/03_create_classification\n",
      "-------------------------------------\n",
      "['../../TreeTect/data/rasters_waterbodies_osm/Jakarta/Jakarta_003_pansharpen_True_2018-09-13_03:30_1030010085B5FC00.tif']\n",
      "-------------------------------------\n",
      "../../TreeTect/data/rasters_waterbodies_osm/Jakarta/Jakarta_003_pansharpen_True_2018-09-13_03:30_1030010085B5FC00.tif\n"
     ]
    }
   ],
   "source": [
    "# find files in shapefile folder\n",
    "shape_file_path = '../../TreeTect/data/rasters_waterbodies_osm/Jakarta/Jakarta_{}*.tif'.format(nr_search)\n",
    "shape_files = glob.glob(shape_file_path)\n",
    "file_path = shape_files[0]\n",
    "\n",
    "\n",
    "print(cwd)\n",
    "print('-------------------------------------')\n",
    "pprint(shape_files)\n",
    "print('-------------------------------------')\n",
    "print(file_path)"
   ]
  },
  {
   "cell_type": "markdown",
   "metadata": {},
   "source": [
    "# all pixels method"
   ]
  },
  {
   "cell_type": "code",
   "execution_count": 390,
   "metadata": {},
   "outputs": [],
   "source": [
    "import rasterio\n",
    "from rasterio import mask\n",
    "\n",
    "dataset = rasterio.open(file_path)\n",
    "\n"
   ]
  },
  {
   "cell_type": "code",
   "execution_count": 391,
   "metadata": {},
   "outputs": [],
   "source": [
    "import matplotlib.pyplot as plt"
   ]
  },
  {
   "cell_type": "code",
   "execution_count": 392,
   "metadata": {},
   "outputs": [],
   "source": [
    "bands,x,y = dataset.read().shape"
   ]
  },
  {
   "cell_type": "code",
   "execution_count": 393,
   "metadata": {},
   "outputs": [],
   "source": [
    "array_dataset = dataset.read().reshape([x*y,8])"
   ]
  },
  {
   "cell_type": "code",
   "execution_count": 394,
   "metadata": {},
   "outputs": [],
   "source": [
    "non_water_pixels = mask.mask(dataset, non_water_Multi_wgs, invert=False)[0]\n",
    "\n",
    "b,x,y = non_water_pixels.shape\n",
    "\n",
    "non_water_pixels_reshape = non_water_pixels.reshape([x*y,8])[:,0]\n",
    "\n",
    "non_water_pixels_index = non_water_pixels_reshape == 0\n"
   ]
  },
  {
   "cell_type": "code",
   "execution_count": 395,
   "metadata": {},
   "outputs": [],
   "source": [
    "# Create dataframe from clicked values\n",
    "\n",
    "import pandas as pd\n",
    "\n",
    "df_bands = pd.DataFrame(array_dataset)\n",
    "\n",
    "df_bands['label'] = 'water'\n",
    "df_bands.loc[non_water_pixels_index, ['label']] = 'non_water'"
   ]
  },
  {
   "cell_type": "code",
   "execution_count": 396,
   "metadata": {},
   "outputs": [
    {
     "data": {
      "text/plain": [
       "426213"
      ]
     },
     "execution_count": 396,
     "metadata": {},
     "output_type": "execute_result"
    }
   ],
   "source": [
    "sum(df_bands['label'] == 'water') + sum(df_bands['label'] == 'non_water')"
   ]
  },
  {
   "cell_type": "code",
   "execution_count": 397,
   "metadata": {},
   "outputs": [],
   "source": [
    "df = df_bands"
   ]
  },
  {
   "cell_type": "markdown",
   "metadata": {},
   "source": [
    "# sample method\n"
   ]
  },
  {
   "cell_type": "code",
   "execution_count": 401,
   "metadata": {},
   "outputs": [],
   "source": [
    "def get_values_for_points(dataset, points):\n",
    "\n",
    "    bands_save = []\n",
    "    x_save = []\n",
    "    y_save = []\n",
    "    \n",
    "    data_array = dataset.read()\n",
    "\n",
    "    for i in range(n_points):\n",
    "        x = points[i].x\n",
    "        y = points[i].y\n",
    "\n",
    "        x_save.append(x)\n",
    "        y_save.append(y)\n",
    "\n",
    "        index = dataset.index(x, y)\n",
    "\n",
    "        band_values = data_array[:,index[0],index[1]]\n",
    "\n",
    "        bands_save.append(band_values)\n",
    "\n",
    "#         print(band_values)\n",
    "        \n",
    "    return bands_save, x_save, y_save"
   ]
  },
  {
   "cell_type": "code",
   "execution_count": 402,
   "metadata": {},
   "outputs": [],
   "source": [
    "import random\n",
    "\n",
    "n_points = 1000\n",
    "\n",
    "points_water = random_points_within(water_Multi_wgs, n_points)\n",
    "\n",
    "points_non_water = random_points_within(non_water_Multi_wgs, n_points)"
   ]
  },
  {
   "cell_type": "code",
   "execution_count": 403,
   "metadata": {},
   "outputs": [],
   "source": [
    "bands_save, x_save, y_save = get_values_for_points(dataset, points_water)\n",
    "\n",
    "bands_save_n, x_save_n, y_save_n = get_values_for_points(dataset, points_non_water)"
   ]
  },
  {
   "cell_type": "code",
   "execution_count": 404,
   "metadata": {},
   "outputs": [],
   "source": [
    "# Create dataframe from clicked values\n",
    "\n",
    "import pandas as pd\n",
    "\n",
    "df_bands = pd.DataFrame(bands_save)\n",
    "\n",
    "df_bands['x'] = x_save\n",
    "df_bands['y'] = y_save\n",
    "df_bands['label'] = 'water'"
   ]
  },
  {
   "cell_type": "code",
   "execution_count": 405,
   "metadata": {},
   "outputs": [],
   "source": [
    "df_bands_n = pd.DataFrame(bands_save_n)\n",
    "\n",
    "df_bands_n['x'] = x_save_n\n",
    "df_bands_n['y'] = y_save_n\n",
    "df_bands_n['label'] = 'non_water'"
   ]
  },
  {
   "cell_type": "code",
   "execution_count": 406,
   "metadata": {},
   "outputs": [],
   "source": [
    "frames = [df_bands, df_bands_n]\n",
    "\n",
    "#concatenate dataframes\n",
    "df = pd.concat(frames, sort=False)"
   ]
  },
  {
   "cell_type": "markdown",
   "metadata": {},
   "source": [
    "# Export training data"
   ]
  },
  {
   "cell_type": "code",
   "execution_count": 407,
   "metadata": {},
   "outputs": [
    {
     "data": {
      "text/html": [
       "<div>\n",
       "<style scoped>\n",
       "    .dataframe tbody tr th:only-of-type {\n",
       "        vertical-align: middle;\n",
       "    }\n",
       "\n",
       "    .dataframe tbody tr th {\n",
       "        vertical-align: top;\n",
       "    }\n",
       "\n",
       "    .dataframe thead th {\n",
       "        text-align: right;\n",
       "    }\n",
       "</style>\n",
       "<table border=\"1\" class=\"dataframe\">\n",
       "  <thead>\n",
       "    <tr style=\"text-align: right;\">\n",
       "      <th></th>\n",
       "      <th>0</th>\n",
       "      <th>1</th>\n",
       "      <th>2</th>\n",
       "      <th>3</th>\n",
       "      <th>4</th>\n",
       "      <th>5</th>\n",
       "      <th>6</th>\n",
       "      <th>7</th>\n",
       "      <th>x</th>\n",
       "      <th>y</th>\n",
       "      <th>label</th>\n",
       "    </tr>\n",
       "  </thead>\n",
       "  <tbody>\n",
       "    <tr>\n",
       "      <th>2</th>\n",
       "      <td>2050.0</td>\n",
       "      <td>1807.0</td>\n",
       "      <td>1553.0</td>\n",
       "      <td>1440.0</td>\n",
       "      <td>1361.0</td>\n",
       "      <td>1413.0</td>\n",
       "      <td>1552.0</td>\n",
       "      <td>1309.0</td>\n",
       "      <td>106.833870</td>\n",
       "      <td>-6.197213</td>\n",
       "      <td>non_water</td>\n",
       "    </tr>\n",
       "    <tr>\n",
       "      <th>271</th>\n",
       "      <td>2001.0</td>\n",
       "      <td>1766.0</td>\n",
       "      <td>1532.0</td>\n",
       "      <td>1410.0</td>\n",
       "      <td>1321.0</td>\n",
       "      <td>1542.0</td>\n",
       "      <td>1834.0</td>\n",
       "      <td>1540.0</td>\n",
       "      <td>106.833860</td>\n",
       "      <td>-6.199092</td>\n",
       "      <td>non_water</td>\n",
       "    </tr>\n",
       "    <tr>\n",
       "      <th>374</th>\n",
       "      <td>1978.0</td>\n",
       "      <td>1709.0</td>\n",
       "      <td>1472.0</td>\n",
       "      <td>1315.0</td>\n",
       "      <td>1197.0</td>\n",
       "      <td>1497.0</td>\n",
       "      <td>1980.0</td>\n",
       "      <td>1664.0</td>\n",
       "      <td>106.835808</td>\n",
       "      <td>-6.196739</td>\n",
       "      <td>non_water</td>\n",
       "    </tr>\n",
       "    <tr>\n",
       "      <th>119</th>\n",
       "      <td>1950.0</td>\n",
       "      <td>1709.0</td>\n",
       "      <td>1490.0</td>\n",
       "      <td>1355.0</td>\n",
       "      <td>1251.0</td>\n",
       "      <td>1612.0</td>\n",
       "      <td>2151.0</td>\n",
       "      <td>1837.0</td>\n",
       "      <td>106.834574</td>\n",
       "      <td>-6.198387</td>\n",
       "      <td>non_water</td>\n",
       "    </tr>\n",
       "    <tr>\n",
       "      <th>639</th>\n",
       "      <td>2076.0</td>\n",
       "      <td>1874.0</td>\n",
       "      <td>1668.0</td>\n",
       "      <td>1609.0</td>\n",
       "      <td>1554.0</td>\n",
       "      <td>1601.0</td>\n",
       "      <td>1754.0</td>\n",
       "      <td>1426.0</td>\n",
       "      <td>106.833510</td>\n",
       "      <td>-6.196843</td>\n",
       "      <td>non_water</td>\n",
       "    </tr>\n",
       "    <tr>\n",
       "      <th>90</th>\n",
       "      <td>1933.0</td>\n",
       "      <td>1694.0</td>\n",
       "      <td>1455.0</td>\n",
       "      <td>1317.0</td>\n",
       "      <td>1227.0</td>\n",
       "      <td>1382.0</td>\n",
       "      <td>1672.0</td>\n",
       "      <td>1340.0</td>\n",
       "      <td>106.834524</td>\n",
       "      <td>-6.199197</td>\n",
       "      <td>non_water</td>\n",
       "    </tr>\n",
       "    <tr>\n",
       "      <th>900</th>\n",
       "      <td>2047.0</td>\n",
       "      <td>1819.0</td>\n",
       "      <td>1626.0</td>\n",
       "      <td>1475.0</td>\n",
       "      <td>1363.0</td>\n",
       "      <td>1308.0</td>\n",
       "      <td>1305.0</td>\n",
       "      <td>1066.0</td>\n",
       "      <td>106.834614</td>\n",
       "      <td>-6.197779</td>\n",
       "      <td>water</td>\n",
       "    </tr>\n",
       "    <tr>\n",
       "      <th>872</th>\n",
       "      <td>1967.0</td>\n",
       "      <td>1715.0</td>\n",
       "      <td>1454.0</td>\n",
       "      <td>1347.0</td>\n",
       "      <td>1254.0</td>\n",
       "      <td>1329.0</td>\n",
       "      <td>1429.0</td>\n",
       "      <td>1217.0</td>\n",
       "      <td>106.835891</td>\n",
       "      <td>-6.196633</td>\n",
       "      <td>non_water</td>\n",
       "    </tr>\n",
       "    <tr>\n",
       "      <th>336</th>\n",
       "      <td>1913.0</td>\n",
       "      <td>1661.0</td>\n",
       "      <td>1461.0</td>\n",
       "      <td>1287.0</td>\n",
       "      <td>1172.0</td>\n",
       "      <td>1758.0</td>\n",
       "      <td>2556.0</td>\n",
       "      <td>2168.0</td>\n",
       "      <td>106.835262</td>\n",
       "      <td>-6.197961</td>\n",
       "      <td>non_water</td>\n",
       "    </tr>\n",
       "    <tr>\n",
       "      <th>41</th>\n",
       "      <td>2037.0</td>\n",
       "      <td>1808.0</td>\n",
       "      <td>1605.0</td>\n",
       "      <td>1447.0</td>\n",
       "      <td>1350.0</td>\n",
       "      <td>1294.0</td>\n",
       "      <td>1311.0</td>\n",
       "      <td>1072.0</td>\n",
       "      <td>106.834803</td>\n",
       "      <td>-6.197776</td>\n",
       "      <td>water</td>\n",
       "    </tr>\n",
       "  </tbody>\n",
       "</table>\n",
       "</div>"
      ],
      "text/plain": [
       "          0       1       2       3       4       5       6       7  \\\n",
       "2    2050.0  1807.0  1553.0  1440.0  1361.0  1413.0  1552.0  1309.0   \n",
       "271  2001.0  1766.0  1532.0  1410.0  1321.0  1542.0  1834.0  1540.0   \n",
       "374  1978.0  1709.0  1472.0  1315.0  1197.0  1497.0  1980.0  1664.0   \n",
       "119  1950.0  1709.0  1490.0  1355.0  1251.0  1612.0  2151.0  1837.0   \n",
       "639  2076.0  1874.0  1668.0  1609.0  1554.0  1601.0  1754.0  1426.0   \n",
       "90   1933.0  1694.0  1455.0  1317.0  1227.0  1382.0  1672.0  1340.0   \n",
       "900  2047.0  1819.0  1626.0  1475.0  1363.0  1308.0  1305.0  1066.0   \n",
       "872  1967.0  1715.0  1454.0  1347.0  1254.0  1329.0  1429.0  1217.0   \n",
       "336  1913.0  1661.0  1461.0  1287.0  1172.0  1758.0  2556.0  2168.0   \n",
       "41   2037.0  1808.0  1605.0  1447.0  1350.0  1294.0  1311.0  1072.0   \n",
       "\n",
       "              x         y      label  \n",
       "2    106.833870 -6.197213  non_water  \n",
       "271  106.833860 -6.199092  non_water  \n",
       "374  106.835808 -6.196739  non_water  \n",
       "119  106.834574 -6.198387  non_water  \n",
       "639  106.833510 -6.196843  non_water  \n",
       "90   106.834524 -6.199197  non_water  \n",
       "900  106.834614 -6.197779      water  \n",
       "872  106.835891 -6.196633  non_water  \n",
       "336  106.835262 -6.197961  non_water  \n",
       "41   106.834803 -6.197776      water  "
      ]
     },
     "execution_count": 407,
     "metadata": {},
     "output_type": "execute_result"
    }
   ],
   "source": [
    "df.sample(10)"
   ]
  },
  {
   "cell_type": "code",
   "execution_count": 408,
   "metadata": {},
   "outputs": [],
   "source": [
    "file_name = file_path.split('/')[-1].split('.')[0]"
   ]
  },
  {
   "cell_type": "code",
   "execution_count": 409,
   "metadata": {},
   "outputs": [
    {
     "name": "stdout",
     "output_type": "stream",
     "text": [
      "../../TreeTect/data/trainings_data_waterbodies/data_non_acomp_Jakarta_003_pansharpen_True_2018-09-13_03:30_1030010085B5FC00_2020-03-09 14:56:36.025705.csv\n"
     ]
    }
   ],
   "source": [
    "import datetime\n",
    "\n",
    "NOW = datetime.datetime.now()\n",
    "\n",
    "csv_filename = \"../../TreeTect/data/trainings_data_waterbodies/data_non_acomp_{}_{}.csv\".format(file_name, NOW)\n",
    "\n",
    "df.to_csv(csv_filename)\n",
    "\n",
    "print(csv_filename)"
   ]
  },
  {
   "cell_type": "markdown",
   "metadata": {},
   "source": [
    "# In case of emergency"
   ]
  },
  {
   "cell_type": "code",
   "execution_count": 54,
   "metadata": {},
   "outputs": [
    {
     "data": {
      "text/html": [
       "<a download=\"data_Situ_Denpasar.tif_2020-03-02 04:36:59.679036.csv\" href=\"data:text/csv;base64,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\" target=\"_blank\">Download CSV file</a>"
      ],
      "text/plain": [
       "<IPython.core.display.HTML object>"
      ]
     },
     "execution_count": 54,
     "metadata": {},
     "output_type": "execute_result"
    }
   ],
   "source": [
    "# Save dataframe as csv file and create download link\n",
    "from IPython.display import HTML\n",
    "import base64  \n",
    "import pandas as pd  \n",
    "import datetime\n",
    "\n",
    "NOW = datetime.datetime.now()\n",
    "\n",
    "def create_download_link(df, title = \"Download CSV file\", \n",
    "                         filename = \"data_{}_{}.csv\".format(file_name, NOW)):  \n",
    "    \n",
    "    csv = df.to_csv(index =False)\n",
    "    b64 = base64.b64encode(csv.encode())\n",
    "    payload = b64.decode()\n",
    "    html = '<a download=\"{filename}\" href=\"data:text/csv;base64,{payload}\" target=\"_blank\">{title}</a>'\n",
    "    html = html.format(payload=payload,title=title,filename=filename)\n",
    "    return HTML(html)\n",
    "\n",
    "create_download_link(df)"
   ]
  },
  {
   "cell_type": "code",
   "execution_count": null,
   "metadata": {},
   "outputs": [],
   "source": []
  }
 ],
 "metadata": {
  "kernelspec": {
   "display_name": "Python 3",
   "language": "python",
   "name": "python3"
  },
  "language_info": {
   "codemirror_mode": {
    "name": "ipython",
    "version": 3
   },
   "file_extension": ".py",
   "mimetype": "text/x-python",
   "name": "python",
   "nbconvert_exporter": "python",
   "pygments_lexer": "ipython3",
   "version": "3.7.6"
  }
 },
 "nbformat": 4,
 "nbformat_minor": 2
}
