{
 "cells": [
  {
   "cell_type": "code",
   "execution_count": 18,
   "metadata": {},
   "outputs": [
    {
     "data": {
      "text/plain": [
       "(['/media/chris/Data/GreenCityWatch/data/Ground_truth/Cambridge_trees_UTM.shp',\n",
       "  '/media/chris/Data/GreenCityWatch/data/Ground_truth/Cambridge_trees_WGS.shp',\n",
       "  '/media/chris/Data/GreenCityWatch/data/Ground_truth/MIT_trees_WGS.shp',\n",
       "  '/media/chris/Data/GreenCityWatch/data/Ground_truth/OTM.shp',\n",
       "  '/media/chris/Data/GreenCityWatch/data/Ground_truth/MIT_trees_UTM.shp',\n",
       "  '/media/chris/Data/GreenCityWatch/data/Ground_truth/LiDAR_based_cambridge_merged.shp',\n",
       "  '/media/chris/Data/GreenCityWatch/data/Ground_truth/LiDAR_based_within_buffer_UTM.shp',\n",
       "  '/media/chris/Data/GreenCityWatch/data/Ground_truth/LiDAR_based_cambridge_merged_UTM.shp',\n",
       "  '/media/chris/Data/GreenCityWatch/data/Ground_truth/LiDAR_based_within_buffer_UTM_N18NAD84.shp'],\n",
       " '/home/chris/Documents/GreenCityWatch/GCW_toolkit/misc',\n",
       " '/media/chris/Data/GreenCityWatch/data/Ground_truth/Cambridge_trees_WGS.shp')"
      ]
     },
     "execution_count": 18,
     "metadata": {},
     "output_type": "execute_result"
    }
   ],
   "source": [
    "## Read polygons from file and apply as gee geometries\n",
    "import fiona\n",
    "from shapely.geometry import shape, MultiPolygon, MultiPoint, Polygon, Point\n",
    "import glob\n",
    "\n",
    "# current working directory\n",
    "import os\n",
    "cwd = os.getcwd()\n",
    "\n",
    "# find files in shapefile folder\n",
    "shape_file_path = '/media/chris/Data/GreenCityWatch/data/Ground_truth/*.shp'\n",
    "shape_files = glob.glob(shape_file_path)\n",
    "path = shape_files[1]\n",
    "\n",
    "shape_files, cwd, path"
   ]
  },
  {
   "cell_type": "code",
   "execution_count": 20,
   "metadata": {},
   "outputs": [],
   "source": [
    "shp_AOIs = MultiPoint([shape(pol['geometry']) for pol in fiona.open(path)])"
   ]
  },
  {
   "cell_type": "code",
   "execution_count": 22,
   "metadata": {},
   "outputs": [
    {
     "data": {
      "text/plain": [
       "34060"
      ]
     },
     "execution_count": 22,
     "metadata": {},
     "output_type": "execute_result"
    }
   ],
   "source": [
    "len(shp_AOIs)"
   ]
  },
  {
   "cell_type": "code",
   "execution_count": 8,
   "metadata": {},
   "outputs": [],
   "source": [
    "from pprint import pprint"
   ]
  },
  {
   "cell_type": "code",
   "execution_count": 27,
   "metadata": {
    "scrolled": false
   },
   "outputs": [],
   "source": [
    "diameters = []\n",
    "\n",
    "for point in fiona.open(path):\n",
    "\n",
    "    diameter = point['properties']['diameter']\n",
    "    diameters.append(diameter)"
   ]
  },
  {
   "cell_type": "code",
   "execution_count": 36,
   "metadata": {},
   "outputs": [],
   "source": [
    "import numpy as np\n",
    "diameters = np.array(diameters)"
   ]
  },
  {
   "cell_type": "code",
   "execution_count": 37,
   "metadata": {},
   "outputs": [
    {
     "data": {
      "text/plain": [
       "(array([2.1445e+04, 7.7560e+03, 3.4030e+03, 1.0000e+03, 3.2000e+02,\n",
       "        1.0500e+02, 1.8000e+01, 2.0000e+00, 5.0000e+00, 1.0000e+00]),\n",
       " array([ 0. ,  8.6, 17.2, 25.8, 34.4, 43. , 51.6, 60.2, 68.8, 77.4, 86. ]),\n",
       " <a list of 10 Patch objects>)"
      ]
     },
     "execution_count": 37,
     "metadata": {},
     "output_type": "execute_result"
    },
    {
     "data": {
      "image/png": "[encoded data removed]",
      "text/plain": [
       "<Figure size 432x288 with 1 Axes>"
      ]
     },
     "metadata": {
      "needs_background": "light"
     },
     "output_type": "display_data"
    }
   ],
   "source": [
    "import matplotlib.pyplot as plt\n",
    "\n",
    "plt.hist(diameters[diameters < 94])"
   ]
  },
  {
   "cell_type": "code",
   "execution_count": 42,
   "metadata": {},
   "outputs": [
    {
     "data": {
      "text/plain": [
       "{'whiskers': [<matplotlib.lines.Line2D at 0x7f0084161110>,\n",
       "  <matplotlib.lines.Line2D at 0x7f00841616d0>],\n",
       " 'caps': [<matplotlib.lines.Line2D at 0x7f0084161bd0>,\n",
       "  <matplotlib.lines.Line2D at 0x7f0084151210>],\n",
       " 'boxes': [<matplotlib.lines.Line2D at 0x7f008415c450>],\n",
       " 'medians': [<matplotlib.lines.Line2D at 0x7f0084168650>],\n",
       " 'fliers': [<matplotlib.lines.Line2D at 0x7f0084168b50>],\n",
       " 'means': []}"
      ]
     },
     "execution_count": 42,
     "metadata": {},
     "output_type": "execute_result"
    },
    {
     "data": {
      "image/png": "[encoded data removed]",
      "text/plain": [
       "<Figure size 432x288 with 1 Axes>"
      ]
     },
     "metadata": {
      "needs_background": "light"
     },
     "output_type": "display_data"
    }
   ],
   "source": [
    "plt.boxplot(diameters < 100)"
   ]
  },
  {
   "cell_type": "code",
   "execution_count": 50,
   "metadata": {},
   "outputs": [
    {
     "data": {
      "text/plain": [
       "(array([2.6004e+04, 1.0000e+00, 0.0000e+00, 0.0000e+00, 0.0000e+00,\n",
       "        0.0000e+00, 0.0000e+00, 2.0000e+00, 0.0000e+00, 2.0000e+00]),\n",
       " array([1.0000e-01, 9.4590e+01, 1.8908e+02, 2.8357e+02, 3.7806e+02,\n",
       "        4.7255e+02, 5.6704e+02, 6.6153e+02, 7.5602e+02, 8.5051e+02,\n",
       "        9.4500e+02]),\n",
       " <a list of 10 Patch objects>)"
      ]
     },
     "execution_count": 50,
     "metadata": {},
     "output_type": "execute_result"
    },
    {
     "data": {
      "image/png": "[encoded data removed]",
      "text/plain": [
       "<Figure size 432x288 with 1 Axes>"
      ]
     },
     "metadata": {
      "needs_background": "light"
     },
     "output_type": "display_data"
    }
   ],
   "source": [
    "plt.hist(diameters[diameters != 0])"
   ]
  },
  {
   "cell_type": "code",
   "execution_count": null,
   "metadata": {},
   "outputs": [],
   "source": []
  }
 ],
 "metadata": {
  "kernelspec": {
   "display_name": "Python 3",
   "language": "python",
   "name": "python3"
  },
  "language_info": {
   "codemirror_mode": {
    "name": "ipython",
    "version": 3
   },
   "file_extension": ".py",
   "mimetype": "text/x-python",
   "name": "python",
   "nbconvert_exporter": "python",
   "pygments_lexer": "ipython3",
   "version": "3.7.6"
  }
 },
 "nbformat": 4,
 "nbformat_minor": 4
}
