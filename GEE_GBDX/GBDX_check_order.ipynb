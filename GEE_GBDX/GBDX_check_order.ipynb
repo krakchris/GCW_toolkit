{
 "cells": [
  {
   "cell_type": "code",
   "execution_count": 1,
   "metadata": {},
   "outputs": [
    {
     "name": "stderr",
     "output_type": "stream",
     "text": [
      "/home/chris/anaconda3/envs/GCW_1/lib/python3.7/site-packages/gbdxtools/images/meta.py:21: UserWarning: ShareDict has been deprecated in favor of HighLevelGraph and will be removed in future versions\n",
      "  from dask import sharedict, optimization\n"
     ]
    }
   ],
   "source": [
    "# load libraries\n",
    "import datetime, time\n",
    "from gbdxtools import Interface, CatalogImage\n",
    "gbdx = Interface()"
   ]
  },
  {
   "cell_type": "markdown",
   "metadata": {},
   "source": [
    "# Order image"
   ]
  },
  {
   "cell_type": "code",
   "execution_count": 5,
   "metadata": {},
   "outputs": [],
   "source": [
    "image_id = '1030010075468600' # Situ Babakan"
   ]
  },
  {
   "cell_type": "code",
   "execution_count": 6,
   "metadata": {},
   "outputs": [],
   "source": [
    "order_id = gbdx.ordering.order(image_id) "
   ]
  },
  {
   "cell_type": "code",
   "execution_count": 7,
   "metadata": {},
   "outputs": [
    {
     "data": {
      "text/plain": [
       "'343bfdca-d64a-49f1-be25-b7208fa099e8'"
      ]
     },
     "execution_count": 7,
     "metadata": {},
     "output_type": "execute_result"
    }
   ],
   "source": [
    "order_id"
   ]
  },
  {
   "cell_type": "markdown",
   "metadata": {},
   "source": [
    "# One time check"
   ]
  },
  {
   "cell_type": "code",
   "execution_count": 2,
   "metadata": {},
   "outputs": [],
   "source": [
    "order_id = 'e315ab68-4ae8-4e46-ad85-8142f541525a' # Situ Babakan"
   ]
  },
  {
   "cell_type": "code",
   "execution_count": 8,
   "metadata": {},
   "outputs": [],
   "source": [
    "order_id = '343bfdca-d64a-49f1-be25-b7208fa099e8' #?\n"
   ]
  },
  {
   "cell_type": "code",
   "execution_count": 10,
   "metadata": {},
   "outputs": [
    {
     "name": "stdout",
     "output_type": "stream",
     "text": [
      "00:04:38.602461 [{'acquisition_id': '1030010075468600', 'state': 'placed', 'location': 'not_delivered'}]\n"
     ]
    }
   ],
   "source": [
    "order_status = gbdx.ordering.status(order_id)\n",
    "print(datetime.datetime.now().time(), order_status)"
   ]
  },
  {
   "cell_type": "markdown",
   "metadata": {},
   "source": [
    "# Check loop"
   ]
  },
  {
   "cell_type": "code",
   "execution_count": null,
   "metadata": {
    "scrolled": true
   },
   "outputs": [],
   "source": [
    "while True: \n",
    "    \n",
    "    order_status = gbdx.ordering.status(order_id)\n",
    "    \n",
    "    if order_status[0]['state'] == 'ordering':\n",
    "        order_status = gbdx.ordering.status(order_id)\n",
    "        print(datetime.datetime.now().time(), order_status)\n",
    "        time.sleep(1200)\n",
    "    elif order_status[0]['state'] == 'placed':\n",
    "        order_status = gbdx.ordering.status(order_id)\n",
    "        print(datetime.datetime.now().time(), order_status)\n",
    "        time.sleep(1200)\n",
    "    else:\n",
    "        order_status = gbdx.ordering.status(order_id)\n",
    "        print(datetime.datetime.now().time(), order_status)\n",
    "        break\n",
    "        "
   ]
  },
  {
   "cell_type": "code",
   "execution_count": null,
   "metadata": {},
   "outputs": [],
   "source": []
  }
 ],
 "metadata": {
  "kernelspec": {
   "display_name": "Python 3",
   "language": "python",
   "name": "python3"
  },
  "language_info": {
   "codemirror_mode": {
    "name": "ipython",
    "version": 3
   },
   "file_extension": ".py",
   "mimetype": "text/x-python",
   "name": "python",
   "nbconvert_exporter": "python",
   "pygments_lexer": "ipython3",
   "version": "3.7.3"
  }
 },
 "nbformat": 4,
 "nbformat_minor": 2
}
