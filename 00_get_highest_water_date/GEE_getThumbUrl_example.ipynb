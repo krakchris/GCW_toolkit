{
 "cells": [
  {
   "cell_type": "markdown",
   "metadata": {},
   "source": [
    "# GEE getThumbUrl example"
   ]
  },
  {
   "cell_type": "code",
   "execution_count": 4,
   "metadata": {},
   "outputs": [],
   "source": [
    "# Import the Earth Engine Python Package\n",
    "import ee # !pip install earthengine-api\n",
    "\n",
    "# Import Dependencies\n",
    "import pandas as pd\n",
    "import matplotlib.dates as mdates\n",
    "from IPython.display import Image\n",
    "from datetime import datetime\n",
    "from matplotlib import dates\n",
    "from pylab import *\n",
    "\n",
    "ee.Initialize()"
   ]
  },
  {
   "cell_type": "markdown",
   "metadata": {},
   "source": [
    "# Initialization using polgyon"
   ]
  },
  {
   "cell_type": "code",
   "execution_count": 5,
   "metadata": {},
   "outputs": [],
   "source": [
    "# set variables\n",
    "SCALE = 10;\n",
    "polarization = 'VV'; # vertical/vertical or vertical/horizontal"
   ]
  },
  {
   "cell_type": "code",
   "execution_count": 6,
   "metadata": {},
   "outputs": [],
   "source": [
    "# build geometry to measure\n",
    "rect = ee.Geometry.Polygon(\n",
    "        [[[106.81591544702997, -6.33681462466857],\n",
    "          [106.81591544702997, -6.350036929099756],\n",
    "          [106.82780299738397, -6.350036929099756],\n",
    "          [106.82780299738397, -6.33681462466857]]])"
   ]
  },
  {
   "cell_type": "code",
   "execution_count": 7,
   "metadata": {},
   "outputs": [],
   "source": [
    "# convert geometry to JSON format\n",
    "rect_JSON = rect.getInfo()['coordinates']"
   ]
  },
  {
   "cell_type": "markdown",
   "metadata": {},
   "source": [
    "## run gee analysis trough api"
   ]
  },
  {
   "cell_type": "code",
   "execution_count": 8,
   "metadata": {},
   "outputs": [],
   "source": [
    "# initiate google earth engine to aquire the image\n",
    "S1 = ee.ImageCollection('COPERNICUS/S1_GRD')\\\n",
    ".filterDate('2016-01-01', '2019-12-12')\\\n",
    ".filter(ee.Filter.listContains('transmitterReceiverPolarisation', polarization))\\\n",
    ".filter(ee.Filter.eq('instrumentMode', 'IW'))\\\n",
    ".filter(ee.Filter.eq('orbitProperties_pass', 'DESCENDING'))\\\n",
    ".select(polarization)\\\n",
    ".filterBounds(rect);"
   ]
  },
  {
   "cell_type": "markdown",
   "metadata": {},
   "source": [
    "## plotting the result"
   ]
  },
  {
   "cell_type": "code",
   "execution_count": 9,
   "metadata": {},
   "outputs": [
    {
     "data": {
      "text/html": [
       "<img src=\"https://earthengine.googleapis.com/api/thumb?thumbid=527d4ed7c3be09985b933f39012c772c&token=9f2d73ebef8caa91e84992f401827bfc\"/>"
      ],
      "text/plain": [
       "<IPython.core.display.Image object>"
      ]
     },
     "execution_count": 9,
     "metadata": {},
     "output_type": "execute_result"
    }
   ],
   "source": [
    "# visualize resulting image\n",
    "url=S1.first().getThumbUrl({\n",
    "    'region':rect_JSON,\n",
    "    'min':-25,\n",
    "    'max':0,\n",
    "    'palette':['0784b5', '39ace7', '9bd4e4', 'cadeef', 'ffffff']\n",
    "})\n",
    "\n",
    "Image(url=url)"
   ]
  },
  {
   "cell_type": "code",
   "execution_count": 1,
   "metadata": {},
   "outputs": [
    {
     "name": "stdout",
     "output_type": "stream",
     "text": [
      "s3://receiving-dgcs-tdgplatform-com/011227076010_01_003\n"
     ]
    }
   ],
   "source": [
    "from gbdxtools import Interface\n",
    "gbdx = Interface()\n",
    "\n",
    "is_del = gbdx.catalog.get_data_location(\"104001001BA7C400\")\n",
    "print(is_del)"
   ]
  },
  {
   "cell_type": "code",
   "execution_count": 5,
   "metadata": {},
   "outputs": [
    {
     "ename": "ValueError",
     "evalue": "Download target gbd-customer-data/cda287c5-137e-4235-8c61-4c456e5e77e0/011227076010_01_003 was not found or inaccessible.",
     "output_type": "error",
     "traceback": [
      "\u001b[0;31m---------------------------------------------------------------------------\u001b[0m",
      "\u001b[0;31mValueError\u001b[0m                                Traceback (most recent call last)",
      "\u001b[0;32m<ipython-input-5-cbef6a75ec7a>\u001b[0m in \u001b[0;36m<module>\u001b[0;34m\u001b[0m\n\u001b[1;32m     11\u001b[0m \u001b[0mlocal_dir\u001b[0m \u001b[0;34m=\u001b[0m \u001b[0;34m\"local_dir_name\"\u001b[0m\u001b[0;34m\u001b[0m\u001b[0m\n\u001b[1;32m     12\u001b[0m \u001b[0;34m\u001b[0m\u001b[0m\n\u001b[0;32m---> 13\u001b[0;31m \u001b[0mgbdx\u001b[0m\u001b[0;34m.\u001b[0m\u001b[0ms3\u001b[0m\u001b[0;34m.\u001b[0m\u001b[0mdownload\u001b[0m\u001b[0;34m(\u001b[0m\u001b[0mlocation\u001b[0m\u001b[0;34m=\u001b[0m\u001b[0mlocation\u001b[0m\u001b[0;34m,\u001b[0m \u001b[0mlocal_dir\u001b[0m\u001b[0;34m=\u001b[0m\u001b[0mlocal_dir\u001b[0m\u001b[0;34m)\u001b[0m\u001b[0;34m\u001b[0m\u001b[0m\n\u001b[0m",
      "\u001b[0;32m/anaconda/envs/gbdx_py3/lib/python3.6/site-packages/gbdxtools/s3.py\u001b[0m in \u001b[0;36mdownload\u001b[0;34m(self, location, local_dir)\u001b[0m\n\u001b[1;32m     90\u001b[0m         \u001b[0mobjects\u001b[0m \u001b[0;34m=\u001b[0m \u001b[0ms3conn\u001b[0m\u001b[0;34m.\u001b[0m\u001b[0mlist_objects\u001b[0m\u001b[0;34m(\u001b[0m\u001b[0mBucket\u001b[0m\u001b[0;34m=\u001b[0m\u001b[0mbucket\u001b[0m\u001b[0;34m,\u001b[0m \u001b[0mPrefix\u001b[0m\u001b[0;34m=\u001b[0m\u001b[0;34m(\u001b[0m\u001b[0mprefix\u001b[0m\u001b[0;34m+\u001b[0m\u001b[0;34m'/'\u001b[0m\u001b[0;34m+\u001b[0m\u001b[0mlocation\u001b[0m\u001b[0;34m)\u001b[0m\u001b[0;34m)\u001b[0m\u001b[0;34m\u001b[0m\u001b[0m\n\u001b[1;32m     91\u001b[0m         \u001b[0;32mif\u001b[0m \u001b[0;34m'Contents'\u001b[0m \u001b[0;32mnot\u001b[0m \u001b[0;32min\u001b[0m \u001b[0mobjects\u001b[0m\u001b[0;34m:\u001b[0m\u001b[0;34m\u001b[0m\u001b[0m\n\u001b[0;32m---> 92\u001b[0;31m             \u001b[0;32mraise\u001b[0m \u001b[0mValueError\u001b[0m\u001b[0;34m(\u001b[0m\u001b[0;34m'Download target {}/{}/{} was not found or inaccessible.'\u001b[0m\u001b[0;34m.\u001b[0m\u001b[0mformat\u001b[0m\u001b[0;34m(\u001b[0m\u001b[0mbucket\u001b[0m\u001b[0;34m,\u001b[0m \u001b[0mprefix\u001b[0m\u001b[0;34m,\u001b[0m \u001b[0mlocation\u001b[0m\u001b[0;34m)\u001b[0m\u001b[0;34m)\u001b[0m\u001b[0;34m\u001b[0m\u001b[0m\n\u001b[0m\u001b[1;32m     93\u001b[0m         \u001b[0;32mfor\u001b[0m \u001b[0ms3key\u001b[0m \u001b[0;32min\u001b[0m \u001b[0mobjects\u001b[0m\u001b[0;34m[\u001b[0m\u001b[0;34m'Contents'\u001b[0m\u001b[0;34m]\u001b[0m\u001b[0;34m:\u001b[0m\u001b[0;34m\u001b[0m\u001b[0m\n\u001b[1;32m     94\u001b[0m             \u001b[0mkey\u001b[0m \u001b[0;34m=\u001b[0m \u001b[0ms3key\u001b[0m\u001b[0;34m[\u001b[0m\u001b[0;34m'Key'\u001b[0m\u001b[0;34m]\u001b[0m\u001b[0;34m\u001b[0m\u001b[0m\n",
      "\u001b[0;31mValueError\u001b[0m: Download target gbd-customer-data/cda287c5-137e-4235-8c61-4c456e5e77e0/011227076010_01_003 was not found or inaccessible."
     ]
    }
   ],
   "source": [
    "#Download a single file from a GBDX S3 location\n",
    "\n",
    "from gbdxtools import Interface\n",
    "gbdx = Interface()\n",
    "\n",
    "#Path to file on GBDX S3 location\n",
    "#location is relative to user's GBDX S3 location, ie s3://gbd-customer-data/<prefix>/\n",
    "location = \"011227076010_01_003\"\n",
    "\n",
    "#Path to local directory for download\n",
    "local_dir = \"local_dir_name\"\n",
    "\n",
    "gbdx.s3.download(location=location, local_dir=local_dir)"
   ]
  },
  {
   "cell_type": "code",
   "execution_count": null,
   "metadata": {},
   "outputs": [],
   "source": []
  }
 ],
 "metadata": {
  "kernelspec": {
   "display_name": "Python 3",
   "language": "python",
   "name": "python3"
  },
  "language_info": {
   "codemirror_mode": {
    "name": "ipython",
    "version": 3
   },
   "file_extension": ".py",
   "mimetype": "text/x-python",
   "name": "python",
   "nbconvert_exporter": "python",
   "pygments_lexer": "ipython3",
   "version": "3.6.6"
  }
 },
 "nbformat": 4,
 "nbformat_minor": 2
}
