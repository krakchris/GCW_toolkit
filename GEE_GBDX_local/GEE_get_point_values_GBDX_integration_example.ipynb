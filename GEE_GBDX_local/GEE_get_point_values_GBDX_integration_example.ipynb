{
 "cells": [
  {
   "cell_type": "code",
   "execution_count": 13,
   "metadata": {},
   "outputs": [],
   "source": [
    "# Import the Earth Engine Python Package\n",
    "import ee\n",
    "\n",
    "# Import Dependencies\n",
    "import pandas as pd\n",
    "import matplotlib.dates as mdates\n",
    "from IPython.display import Image\n",
    "from datetime import datetime\n",
    "from matplotlib import dates\n",
    "from pylab import *\n",
    "\n",
    "ee.Initialize()\n",
    "\n",
    "# use matplotlib converters for plotting?\n",
    "from pandas.plotting import register_matplotlib_converters\n",
    "register_matplotlib_converters()"
   ]
  },
  {
   "cell_type": "code",
   "execution_count": 14,
   "metadata": {},
   "outputs": [],
   "source": [
    "## define python functions\n",
    "\n",
    "# function to find max value in a dataframe with DateTime column\n",
    "def find_max(df, index):\n",
    "\n",
    "    max_value = np.nanmax(df.iloc[:, index])\n",
    "    \n",
    "    t_max = df[df.iloc[:, index]  == max_value].DateTime.tolist()[0] \n",
    "    \n",
    "    return max_value, t_max\n",
    "\n",
    "def water_max_plot(df, name, index, zoom = False):\n",
    "    \n",
    "    # calculate max location    \n",
    "    max_value, t_max = find_max(df, index)\n",
    "    \n",
    "    # matplotlib stuff\n",
    "    plt.figure(num=None, figsize=(16,9), dpi=80, facecolor='w', edgecolor='w')\n",
    "    ax = plt.subplot(111)\n",
    "    # Hide the right and top spines\n",
    "    ax.spines['right'].set_visible(False)\n",
    "    ax.spines['top'].set_visible(False)\n",
    "    # Only show ticks on the left and bottom spines\n",
    "    ax.yaxis.set_ticks_position('left')\n",
    "    ax.xaxis.set_ticks_position('bottom')\n",
    "    \n",
    "    if not zoom:\n",
    "        ax.set_ylim([0, 200000])\n",
    "        \n",
    "    plt.grid(alpha = .2)\n",
    "    register_matplotlib_converters()\n",
    "\n",
    "    # plot max lines\n",
    "    plt.axvline(x = t_max, color = 'black',linestyle = '--', alpha = .5, label = 'highes value')\n",
    "    plt.axhline(y = max_value, alpha = .5, linestyle = '--', label = 'abs max')\n",
    "\n",
    "    # plot data and running mean\n",
    "    plt.plot(df.DateTime,df.size_water, 'bo', alpha = .2, label = 'measurements')\n",
    "    plt.plot(df.DateTime, df.iloc[:, index], color = 'red', label = 'running mean')\n",
    "\n",
    "    plt.title(' Total water area over time for: ' + name + ' \\n' +\\\n",
    "              ' Time at max value: ' + t_max.strftime(\"%Y-%m-%d\"))\n",
    "\n",
    "    plt.xlabel('Time')\n",
    "    plt.ylabel('Area')\n",
    "\n",
    "    plt.legend()\n",
    "    plt.show()"
   ]
  },
  {
   "cell_type": "code",
   "execution_count": 15,
   "metadata": {},
   "outputs": [],
   "source": [
    "## create Google Earth Engine functions\n",
    "\n",
    "# create buffer function\n",
    "def buffer1k(feature):\n",
    "    return feature.buffer(500)\n",
    "\n",
    "def waterfunction(image):\n",
    "  \n",
    "    image2 = image  .reproject(crs ='EPSG:4326', scale = SCALE)\\\n",
    "                      .focal_mode()\\\n",
    "                      .focal_max(3).focal_min(5).focal_max(3)\\\n",
    "                      .reproject(crs ='EPSG:4326', scale = SCALE)\n",
    "                    \n",
    "  \n",
    "    # get pixels above the threshold\n",
    "    water01 = image2.lt(-12)\n",
    "    # mask those pixels from the image\n",
    "    image = image.updateMask(water01)\n",
    "    #  calculate pixelalreas\n",
    "    area = ee.Image.pixelArea()\n",
    "    waterArea = water01.multiply(area).rename('waterArea');\n",
    "    #   add waterarea band to uitput\n",
    "    image = image.addBands(waterArea)\n",
    "\n",
    "    return image\n",
    "\n",
    "# reducer function for area calculation\n",
    "def setProperty(image):\n",
    "    dict = image.reduceRegion(ee.Reducer.sum(), AOI_geometry, maxPixels = 60000000)\n",
    "    return image.set(dict)\n",
    "\n"
   ]
  },
  {
   "cell_type": "markdown",
   "metadata": {},
   "source": [
    "# Get number of pixels for point buffers\n"
   ]
  },
  {
   "cell_type": "code",
   "execution_count": 16,
   "metadata": {},
   "outputs": [],
   "source": [
    "# define points of interest\n",
    "\n",
    "features = [\n",
    "  ee.Feature(ee.Geometry.Point(106.83471,-6.197928), {'name': 'Situ Lembang'}),           # 0  \n",
    "  ee.Feature(ee.Geometry.Point(106.80394,-6.211232), {'name': 'Waduk Taman Ria Senayan'}),# 1\n",
    "  ee.Feature(ee.Geometry.Point(106.82223,-6.349455), {'name': 'Situ Mangga Bolong'}),     # 2\n",
    "  ee.Feature(ee.Geometry.Point(106.82136,-6.314984), {'name': 'Waduk Ragunan'}),          # 3 \n",
    "  ee.Feature(ee.Geometry.Point(106.82221,-6.343443), {'name': 'Situ Babakan'}),           # 4\n",
    "  ee.Feature(ee.Geometry.Point(106.84812,-6.257327), {'name': 'Situ TMP Kalibata'}),      # 5\n",
    "  ee.Feature(ee.Geometry.Point(106.88793,-6.357405), {'name': 'Situ Rawa Dongkal'}),\n",
    "  ee.Feature(ee.Geometry.Point(106.92210,-6.211445), {'name': 'Situ Rawa Badung'}), \n",
    "  ee.Feature(ee.Geometry.Point(106.91205,-6.202781), {'name': 'Situ Rawa Gelam'}), \n",
    "  ee.Feature(ee.Geometry.Point(106.88569,-6.338337), {'name': 'Rawa Babon'}),\n",
    "  ee.Feature(ee.Geometry.Point(106.89472,-6.304803), {'name': 'Situ Rawa TMII'}),\n",
    "  ee.Feature(ee.Geometry.Point(106.93248,-6.196898), {'name': 'Situ Rawa Penggilingan'}),\n",
    "  ee.Feature(ee.Geometry.Point(106.95598,-6.163825), {'name': 'Situ Rawa Rorotan'}),\n",
    "  ee.Feature(ee.Geometry.Point(107.03692,-6.351368), {'name': 'Rawa Burankeng'})\n",
    "];"
   ]
  },
  {
   "cell_type": "markdown",
   "metadata": {},
   "source": [
    "## Read shapefile and load to gee"
   ]
  },
  {
   "cell_type": "code",
   "execution_count": 17,
   "metadata": {},
   "outputs": [
    {
     "data": {
      "text/plain": [
       "'/home/chris/Documents/GreenCityWatch/GCW_toolkit/GEE_GBDX_local'"
      ]
     },
     "execution_count": 17,
     "metadata": {},
     "output_type": "execute_result"
    }
   ],
   "source": [
    "# current working directory\n",
    "import os\n",
    "cwd = os.getcwd()\n",
    "cwd"
   ]
  },
  {
   "cell_type": "code",
   "execution_count": 95,
   "metadata": {},
   "outputs": [
    {
     "data": {
      "text/plain": [
       "(['../../TreeTect/data/shapefiles_waterbodies_osm/Denpasar_water_areas.shp',\n",
       "  '../../TreeTect/data/shapefiles_waterbodies_osm/Balikpapan_water_areas.shp',\n",
       "  '../../TreeTect/data/shapefiles_waterbodies_osm/Medan_water_areas.shp',\n",
       "  '../../TreeTect/data/shapefiles_waterbodies_osm/Jakarta_water_areas.shp'],\n",
       " '/home/chris/Documents/GreenCityWatch/GCW_toolkit/GEE_GBDX_local',\n",
       " '../../TreeTect/data/shapefiles_waterbodies_osm/Balikpapan_water_areas.shp')"
      ]
     },
     "execution_count": 95,
     "metadata": {},
     "output_type": "execute_result"
    }
   ],
   "source": [
    "## Read polygons from file and apply as gee geometries\n",
    "import fiona\n",
    "from shapely.geometry import shape, MultiPolygon, Polygon\n",
    "import glob\n",
    "\n",
    "# current working directory\n",
    "import os\n",
    "cwd = os.getcwd()\n",
    "\n",
    "# find files in shapefile folder\n",
    "shape_file_path = '../../TreeTect/data/shapefiles_waterbodies_osm/*.shp'\n",
    "shape_files = glob.glob(shape_file_path)\n",
    "path = shape_files[1]\n",
    "\n",
    "shape_files, cwd, path"
   ]
  },
  {
   "cell_type": "code",
   "execution_count": 106,
   "metadata": {},
   "outputs": [],
   "source": [
    "shp_AOIs = MultiPolygon([shape(pol['geometry']) for pol in fiona.open(path)]) \n",
    "id_list = [pol['id'] for pol in fiona.open(path)]\n",
    "\n",
    "features = []\n",
    "\n",
    "for shp_AOI in shp_AOIs:\n",
    "    # convert data format to usable format for google earth engine api\n",
    "    x = shp_AOI.exterior.coords.xy[0]\n",
    "    y = shp_AOI.exterior.coords.xy[1]\n",
    "    geometry_list = list(np.column_stack((x, y)).flatten())\n",
    "    \n",
    "    features.append(ee.Feature(ee.Geometry.MultiPolygon(geometry_list)))\n",
    "\n",
    "\n"
   ]
  },
  {
   "cell_type": "code",
   "execution_count": 102,
   "metadata": {},
   "outputs": [],
   "source": [
    "# upload geometry to the cloud service\n",
    "features = [\n",
    "    ee_geometry_list\n",
    "    \n",
    "  #ee.Feature(ee.Geometry.MultiPolygon(geometry_list), {'name': id_list[0]})\n",
    "];"
   ]
  },
  {
   "cell_type": "code",
   "execution_count": 103,
   "metadata": {},
   "outputs": [
    {
     "data": {
      "text/plain": [
       "40"
      ]
     },
     "execution_count": 103,
     "metadata": {},
     "output_type": "execute_result"
    }
   ],
   "source": [
    "len(shp_AOIs)"
   ]
  },
  {
   "cell_type": "code",
   "execution_count": 104,
   "metadata": {},
   "outputs": [],
   "source": [
    "# print this to use in https://code.earthengine.google.com/ \n",
    "\n",
    "# np.column_stack((x, y))"
   ]
  },
  {
   "cell_type": "code",
   "execution_count": 107,
   "metadata": {},
   "outputs": [
    {
     "data": {
      "text/plain": [
       "'Polygon'"
      ]
     },
     "execution_count": 107,
     "metadata": {},
     "output_type": "execute_result"
    }
   ],
   "source": [
    "features[0].geometry().getInfo()['type']"
   ]
  },
  {
   "cell_type": "markdown",
   "metadata": {},
   "source": [
    "# Collect and plot data"
   ]
  },
  {
   "cell_type": "code",
   "execution_count": 108,
   "metadata": {},
   "outputs": [],
   "source": [
    "# set variables\n",
    "SCALE = 10;\n",
    "polarization = 'VV'; # vertical/vertical or vertical/horizontal\n",
    "\n",
    "i = 1"
   ]
  },
  {
   "cell_type": "code",
   "execution_count": 113,
   "metadata": {
    "scrolled": false
   },
   "outputs": [
    {
     "name": "stdout",
     "output_type": "stream",
     "text": [
      "no name in feature, get from id_list\n"
     ]
    },
    {
     "data": {
      "image/png": "[encoded data removed]",
      "text/plain": [
       "<Figure size 1280x720 with 1 Axes>"
      ]
     },
     "metadata": {},
     "output_type": "display_data"
    },
    {
     "data": {
      "image/png": "[encoded data removed]",
      "text/plain": [
       "<Figure size 1280x720 with 1 Axes>"
      ]
     },
     "metadata": {},
     "output_type": "display_data"
    },
    {
     "name": "stdout",
     "output_type": "stream",
     "text": [
      "1 2016-01-31 04:49:01.100000\n"
     ]
    }
   ],
   "source": [
    "# for i in [4,4]:\n",
    "\n",
    "# set water body of interest\n",
    "waterbody_i = i\n",
    "\n",
    "#set waterthreshol\n",
    "waterThreshold = -12; \n",
    "\n",
    "try:\n",
    "    name = features[waterbody_i].getInfo()['properties']['name']\n",
    "except:\n",
    "    print('no name in feature, get from id_list')\n",
    "    name = id_list[waterbody_i]\n",
    "\n",
    "# if point apply buffer to area of interest otherwise use polygon\n",
    "if features[0].geometry().getInfo()['type'] == 'Point':\n",
    "    AOI_geometry = ee.FeatureCollection(features[waterbody_i]).map(buffer1k).geometry()\n",
    "else: \n",
    "    AOI_geometry = features[waterbody_i].geometry()\n",
    "\n",
    "\n",
    "# apply functions to GEE\n",
    "\n",
    "# Get the SAR data from the Sentinel-1 collection.\n",
    "S1 = ee.ImageCollection('COPERNICUS/S1_GRD')\\\n",
    "    .filter(ee.Filter.eq('instrumentMode', 'IW'))\\\n",
    "    .filter(ee.Filter.listContains('transmitterReceiverPolarisation', 'VV'))\\\n",
    "    .filter(ee.Filter.eq('orbitProperties_pass', 'DESCENDING'))\\\n",
    "    .filterDate('2015-01-01', '2019-12-30')\\\n",
    "    .filterBounds(AOI_geometry)\\\n",
    "    .select(['VV']);\n",
    "\n",
    "collection = S1.map(waterfunction);\n",
    "\n",
    "withSum = collection.map(setProperty)\n",
    "\n",
    "# get time \n",
    "value_time = withSum.aggregate_array('segmentStartTime').getInfo()\n",
    "\n",
    "# get data \n",
    "value_mask_size = withSum.aggregate_array('waterArea').getInfo()\n",
    "\n",
    "# convert timestamp to DateTime 2016-02-25 05:33:19.610\n",
    "time = [datetime.datetime.fromtimestamp(int(float(i))/1000) for i in (value_time)]\n",
    "\n",
    "### Reshape data into Pandas Dataframe\n",
    "df = pd.DataFrame(data=value_mask_size, index=list(range(len(value_mask_size))),\\\n",
    "                  columns=['size_water'])\n",
    "\n",
    "df = df.interpolate()\n",
    "df['DateTime'] = pd.Series(time, index=df.index)\n",
    "\n",
    "df = df.sort_values('DateTime').reset_index(drop = True)\n",
    "\n",
    "# remove outliers\n",
    "df = df[np.abs(df.size_water-df.size_water.mean()) <= (3*df.size_water.std())]\n",
    "\n",
    "# add running means\n",
    "df['roll_mean'] = df['size_water'].rolling(window = 6, center = True).mean()\n",
    "\n",
    "index = 2\n",
    "\n",
    "water_max_plot(df, name, index, zoom = True)\n",
    "water_max_plot(df, name, index, zoom = False)    \n",
    "\n",
    "max_value, t_max = find_max(df, index)\n",
    "\n",
    "print(name, t_max)"
   ]
  },
  {
   "cell_type": "markdown",
   "metadata": {},
   "source": [
    "# GBDX integration"
   ]
  },
  {
   "cell_type": "code",
   "execution_count": 114,
   "metadata": {},
   "outputs": [],
   "source": [
    "index = 2"
   ]
  },
  {
   "cell_type": "code",
   "execution_count": 115,
   "metadata": {},
   "outputs": [],
   "source": [
    "max_value, t_max = find_max(df, index)"
   ]
  },
  {
   "cell_type": "code",
   "execution_count": 116,
   "metadata": {},
   "outputs": [
    {
     "data": {
      "text/plain": [
       "Timestamp('2016-01-31 04:49:01.100000')"
      ]
     },
     "execution_count": 116,
     "metadata": {},
     "output_type": "execute_result"
    }
   ],
   "source": [
    "t_max"
   ]
  },
  {
   "cell_type": "code",
   "execution_count": 117,
   "metadata": {},
   "outputs": [
    {
     "data": {
      "text/plain": [
       "'/home/chris/Documents/GreenCityWatch/GCW_toolkit/GEE_GBDX_local'"
      ]
     },
     "execution_count": 117,
     "metadata": {},
     "output_type": "execute_result"
    }
   ],
   "source": [
    "# current working directory\n",
    "import os\n",
    "cwd = os.getcwd()\n",
    "\n",
    "cwd"
   ]
  },
  {
   "cell_type": "code",
   "execution_count": 118,
   "metadata": {},
   "outputs": [],
   "source": [
    "import csv\n",
    "\n",
    "from gbdxtools.task import env\n",
    "from gbdxtools import Interface, CatalogImage\n",
    "import gbdx_auth\n",
    "\n",
    "# gbdx_auth = gbdx_auth.get_session('/home/chris/.gbdx-config/credentials')\n",
    "\n",
    "gbdx = Interface()\n",
    "\n",
    "\n",
    "%matplotlib inline"
   ]
  },
  {
   "cell_type": "code",
   "execution_count": 119,
   "metadata": {},
   "outputs": [],
   "source": [
    "from shapely.geometry import shape\n",
    "\n",
    "### convert ee.geometry to wkt for use in GBDX\n",
    "# get geometry from ee\n",
    "AOI_JSON = AOI_geometry.getInfo() \n",
    "# convert to shapely shape\n",
    "geom = shape(AOI_JSON)\n",
    "# convert to wkt\n",
    "wkt_string = geom.wkt\n"
   ]
  },
  {
   "cell_type": "code",
   "execution_count": 120,
   "metadata": {},
   "outputs": [
    {
     "data": {
      "text/plain": [
       "tuple"
      ]
     },
     "execution_count": 120,
     "metadata": {},
     "output_type": "execute_result"
    }
   ],
   "source": [
    "type(geom.bounds)"
   ]
  },
  {
   "cell_type": "code",
   "execution_count": 121,
   "metadata": {},
   "outputs": [],
   "source": [
    "str_ = ', '.join(map(str, geom.bounds))"
   ]
  },
  {
   "cell_type": "code",
   "execution_count": 122,
   "metadata": {},
   "outputs": [
    {
     "data": {
      "image/svg+xml": [
       "<svg xmlns=\"http://www.w3.org/2000/svg\" xmlns:xlink=\"http://www.w3.org/1999/xlink\" width=\"100.0\" height=\"100.0\" viewBox=\"116.95488771999999 -1.2301012800000002 0.0009525600000159784 0.0008245600000003073\" preserveAspectRatio=\"xMinYMin meet\"><g transform=\"matrix(1,0,0,-1,0,-2.459378)\"><path fill-rule=\"evenodd\" fill=\"#66cc99\" stroke=\"#555555\" stroke-width=\"1.9051200000319567e-05\" opacity=\"0.6\" d=\"M 116.954923,-1.229685 L 116.955317,-1.230066 L 116.955805,-1.229531 L 116.955566,-1.229312 L 116.954923,-1.229685 z\" /></g></svg>"
      ],
      "text/plain": [
       "<shapely.geometry.polygon.Polygon at 0x7f75ec57c790>"
      ]
     },
     "execution_count": 122,
     "metadata": {},
     "output_type": "execute_result"
    }
   ],
   "source": [
    "geom"
   ]
  },
  {
   "cell_type": "code",
   "execution_count": 123,
   "metadata": {},
   "outputs": [
    {
     "data": {
      "text/plain": [
       "'POLYGON ((116.954923 -1.229685, 116.955317 -1.230066, 116.955805 -1.229531, 116.955566 -1.229312, 116.954923 -1.229685))'"
      ]
     },
     "execution_count": 123,
     "metadata": {},
     "output_type": "execute_result"
    }
   ],
   "source": [
    "wkt_string"
   ]
  },
  {
   "cell_type": "code",
   "execution_count": 124,
   "metadata": {},
   "outputs": [],
   "source": [
    "# define filters for GBDX search\n",
    "filters = [\n",
    "        \"(sensorPlatformName ='WORLDVIEW02' OR sensorPlatformName ='WORLDVIEW03')\",\n",
    "        \"cloudCover < 50\" # AND coverage > 50\"\n",
    "]"
   ]
  },
  {
   "cell_type": "code",
   "execution_count": 125,
   "metadata": {},
   "outputs": [
    {
     "name": "stdout",
     "output_type": "stream",
     "text": [
      "Start: 2015-07-15T04:49:01.100000Z\n",
      "End: 2016-08-18T04:49:01.100000Z\n"
     ]
    }
   ],
   "source": [
    "# create search window \n",
    "window = 200\n",
    "\n",
    "search_start = t_max - datetime.timedelta(days = window) \n",
    "search_end = t_max + datetime.timedelta(days = window)\n",
    "\n",
    "\n",
    "str_search_start = search_start.strftime(\"%Y-%m-%dT%H:%M:%S.%fZ\")\n",
    "str_search_end = search_end.strftime(\"%Y-%m-%dT%H:%M:%S.%fZ\")\n",
    "\n",
    "print(\"Start: \" + str_search_start + \"\\nEnd: \" + str_search_end)"
   ]
  },
  {
   "cell_type": "markdown",
   "metadata": {},
   "source": [
    "## Run search on GBDX"
   ]
  },
  {
   "cell_type": "code",
   "execution_count": 126,
   "metadata": {},
   "outputs": [],
   "source": [
    "results = gbdx.catalog.search(searchAreaWkt=wkt_string,\n",
    "                          startDate=str_search_start,\n",
    "                          endDate=str_search_end,\n",
    "                          filters=filters)"
   ]
  },
  {
   "cell_type": "code",
   "execution_count": 127,
   "metadata": {},
   "outputs": [
    {
     "data": {
      "text/plain": [
       "7"
      ]
     },
     "execution_count": 127,
     "metadata": {},
     "output_type": "execute_result"
    }
   ],
   "source": [
    "# check number of results\n",
    "len(results)"
   ]
  },
  {
   "cell_type": "code",
   "execution_count": 128,
   "metadata": {},
   "outputs": [
    {
     "name": "stderr",
     "output_type": "stream",
     "text": [
      "/home/chris/anaconda3/envs/GISpy_1/lib/python3.7/site-packages/gbdxtools/images/catalog_image.py:75: UserWarning: is_ordered() is deprecated, use CatalogImage.is_available() instead\n",
      "  warnings.warn('is_ordered() is deprecated, use CatalogImage.is_available() instead')\n"
     ]
    },
    {
     "name": "stdout",
     "output_type": "stream",
     "text": [
      "1030010057581100 False\n",
      "103001005B918500 False\n",
      "1030010049143000 False\n",
      "103001004A655F00 False\n",
      "103001004C82D400 False\n",
      "1030010047330600 False\n",
      "103001004D0F6D00 True\n"
     ]
    }
   ],
   "source": [
    "for result in results:\n",
    "    image_id = result['identifier']\n",
    "    ordered = CatalogImage.is_ordered(image_id)\n",
    "    print(image_id, ordered)\n",
    "    "
   ]
  },
  {
   "cell_type": "code",
   "execution_count": 129,
   "metadata": {},
   "outputs": [
    {
     "data": {
      "text/plain": [
       "'103001004D0F6D00'"
      ]
     },
     "execution_count": 129,
     "metadata": {},
     "output_type": "execute_result"
    }
   ],
   "source": [
    "image_id = results[6]['identifier']\n",
    "catalog_id = env.inputs.get('catalog_id', image_id)\n",
    "catalog_id"
   ]
  },
  {
   "cell_type": "code",
   "execution_count": 130,
   "metadata": {},
   "outputs": [],
   "source": [
    "\n",
    "bbox = env.inputs.get('bbox', ', '.join(map(str, geom.bounds)))\n",
    "\n",
    "bbox = env.inputs.get('bbox', bbox)\n"
   ]
  },
  {
   "cell_type": "code",
   "execution_count": 131,
   "metadata": {},
   "outputs": [
    {
     "name": "stdout",
     "output_type": "stream",
     "text": [
      "Try to get image from GBDX...\n",
      "Success\n"
     ]
    }
   ],
   "source": [
    "## Get image from GBDX\n",
    "\n",
    "# order if not ordered\n",
    "# otherwise print error and check\n",
    "\n",
    "try:\n",
    "    print(\"Try to get image from GBDX...\")\n",
    "    image = CatalogImage(image_id, bbox=map(float, bbox.split(\",\")))\n",
    "    \n",
    "    print(\"Success\")\n",
    "except:\n",
    "    \n",
    "    print(\"Check if image is ordered... \")\n",
    "    \n",
    "    ordered = CatalogImage.is_ordered(image_id)\n",
    "    \n",
    "    if not ordered:\n",
    "        order_id = gbdx.ordering.order(image_id)\n",
    "        \n",
    " \n",
    "        with open('order_id_{}.csv'.format(image_id), newline='') as File:  \n",
    "            reader = csv.reader(File)\n",
    "            for row in reader:\n",
    "                print(row)\n",
    "                \n",
    "        print(\"Image {} ordered with order id: {}\".format(image_id, order_id))\n",
    "                \n",
    "    else:\n",
    "        print(\"Image ordered is: {}\".format(ordered))\n",
    "\n",
    "\n",
    "        print('Image error')"
   ]
  },
  {
   "cell_type": "code",
   "execution_count": 132,
   "metadata": {},
   "outputs": [
    {
     "data": {
      "text/plain": [
       "datetime.datetime(2015, 11, 10, 2, 36, 20, 174000)"
      ]
     },
     "execution_count": 132,
     "metadata": {},
     "output_type": "execute_result"
    }
   ],
   "source": [
    "# Get timestamp\n",
    "time_image = image.metadata[\"image\"][\"acquisitionDate\"] \n",
    "\n",
    "# convert timestamp to datetime timestamp format\n",
    "time_image = datetime.datetime.strptime(time_image, \"%Y-%m-%dT%H:%M:%S.%fZ\")\n",
    "\n",
    "time_image"
   ]
  },
  {
   "cell_type": "code",
   "execution_count": 133,
   "metadata": {},
   "outputs": [
    {
     "name": "stdout",
     "output_type": "stream",
     "text": [
      "World View image taken on 2015-11-10T02:36:20.174Z\n",
      "Time difference between highes water and image is:  -83 days +21:47:19.074000\n"
     ]
    },
    {
     "data": {
      "image/png": "[encoded data removed]",
      "text/plain": [
       "<Figure size 720x720 with 1 Axes>"
      ]
     },
     "metadata": {
      "needs_background": "light"
     },
     "output_type": "display_data"
    }
   ],
   "source": [
    "print(\"World View image taken on {}\".format( image.metadata[\"image\"][\"acquisitionDate\"]))\n",
    "print('Time difference between highes water and image is: ', time_image - t_max)\n",
    "\n",
    "image.plot(w=10, h=10)\n",
    "\n",
    "# Transform dask array to array\n",
    "image_array = image.read()\n",
    "data = image_array"
   ]
  },
  {
   "cell_type": "markdown",
   "metadata": {},
   "source": [
    "# plot cleaning steps"
   ]
  },
  {
   "cell_type": "code",
   "execution_count": 15,
   "metadata": {},
   "outputs": [
    {
     "data": {
      "image/png": "[encoded data removed]",
      "text/plain": [
       "<Figure size 720x720 with 1 Axes>"
      ]
     },
     "metadata": {
      "needs_background": "light"
     },
     "output_type": "display_data"
    }
   ],
   "source": [
    "# and visually\n",
    "plt.figure(figsize= (10,10))\n",
    "plt.plot(df.DateTime,df.size_water, 'bo')\n",
    "plt.title(name + '\\nraw data')\n",
    "plt.show()"
   ]
  },
  {
   "cell_type": "code",
   "execution_count": 16,
   "metadata": {},
   "outputs": [
    {
     "data": {
      "image/png": "[encoded data removed]",
      "text/plain": [
       "<Figure size 432x288 with 1 Axes>"
      ]
     },
     "metadata": {
      "needs_background": "light"
     },
     "output_type": "display_data"
    }
   ],
   "source": [
    "plt.boxplot([value_mask_size, df.size_water], labels=['original', 'no outliers'])\n",
    "plt.title(name + '\\nbefore and after cleaning')\n",
    "plt.show()"
   ]
  },
  {
   "cell_type": "markdown",
   "metadata": {},
   "source": [
    "# Get polygon?"
   ]
  },
  {
   "cell_type": "code",
   "execution_count": null,
   "metadata": {},
   "outputs": [],
   "source": [
    "from gbdxtools.task import env\n",
    "from gbdxtools import CatalogImage\n",
    "%matplotlib inline\n",
    "\n",
    "catalog_id = env.inputs.get('catalog_id', '103001009A066100')\n",
    "bbox = env.inputs.get('bbox', '106.94986581802368, -6.173472986688516, 106.9567108154297, -6.163147599856556')\n",
    "\n",
    "image = CatalogImage(catalog_id, band_type=\"MS\", bbox=map(float, bbox.split(\",\")))\n",
    "image.plot(w=10, h=10)"
   ]
  },
  {
   "cell_type": "code",
   "execution_count": 65,
   "metadata": {},
   "outputs": [],
   "source": [
    "# set water body of interest\n",
    "waterbody_i = 4\n",
    "\n",
    "#set waterthreshol\n",
    "waterThreshold = -13; \n",
    "\n",
    "name = features[waterbody_i].getInfo()['properties']['name']\n",
    "\n",
    "# apply buffer to area of interest\n",
    "AOI_geometry = ee.FeatureCollection(features[waterbody_i]).map(buffer1k).geometry()\n",
    "\n",
    "\n",
    "# apply functions to GEE\n",
    "\n",
    "\n",
    "def waterfunction2(image):\n",
    "  \n",
    "    image2 = image  .reproject(crs ='EPSG:4326', scale = SCALE)\\\n",
    "                      .focal_mode()\\\n",
    "                      .focal_max(1).focal_min(1).focal_max(2)\\\n",
    "                      .reproject(crs ='EPSG:4326', scale = SCALE)\n",
    "  \n",
    "    # get pixels above the threshold\n",
    "    water01 = image2.lt(-13)\n",
    "    # mask those pixels from the image\n",
    "    image = image.updateMask(water01)\n",
    "    #  calculate pixelalreas\n",
    "    area = ee.Image.pixelArea()\n",
    "    waterArea = water01.multiply(area).rename('waterArea').toInt();\n",
    "    #   add waterarea band to uitput\n",
    "    image = image.addBands(waterArea)\n",
    "\n",
    "    return image\n",
    "\n",
    "\n",
    "# Get the SAR data from the Sentinel-1 collection.\n",
    "S1 = ee.ImageCollection('COPERNICUS/S1_GRD')\\\n",
    "    .filter(ee.Filter.eq('instrumentMode', 'IW'))\\\n",
    "    .filter(ee.Filter.listContains('transmitterReceiverPolarisation', 'VV'))\\\n",
    "    .filter(ee.Filter.eq('orbitProperties_pass', 'DESCENDING'))\\\n",
    "    .filterDate('2015-01-01', '2019-12-30')\\\n",
    "    .filterBounds(AOI_geometry)\\\n",
    "    .select(['VV']);\n",
    "\n",
    "collection = S1.map(waterfunction2);\n",
    "\n",
    "\n",
    "\n",
    "# im = ee.Image(collection.first())"
   ]
  },
  {
   "cell_type": "code",
   "execution_count": 68,
   "metadata": {},
   "outputs": [],
   "source": [
    "\n",
    "\n",
    "\n",
    "# build geometry to measure\n",
    "rect = ee.Geometry.Polygon(\n",
    "        [[[106.81355510309686,-6.353704992127306],\n",
    "        [106.82745967463006,-6.353704992127306],\n",
    "        [106.82745967463006,-6.337667686800708],\n",
    "        [106.81355510309686,-6.337667686800708],\n",
    "        [106.81355510309686,-6.353704992127306]]])\n",
    "\n",
    "# convert geometry to JSON format\n",
    "rect_JSON = rect.getInfo()['coordinates']\n",
    "\n",
    "\n",
    "\n",
    "im2 = collection.first().select('waterArea').clip(rect).reduceToVectors();"
   ]
  },
  {
   "cell_type": "code",
   "execution_count": 70,
   "metadata": {},
   "outputs": [],
   "source": [
    "water_FeatureCollection = im2.getInfo()"
   ]
  },
  {
   "cell_type": "code",
   "execution_count": 75,
   "metadata": {},
   "outputs": [
    {
     "data": {
      "text/plain": [
       "{'type': 'Feature',\n",
       " 'geometry': {'geodesic': False,\n",
       "  'type': 'Polygon',\n",
       "  'coordinates': [[[106.81381953211806, -6.353424678463727],\n",
       "    [106.81390936364646, -6.353424678463727],\n",
       "    [106.81390936364646, -6.353245015406904],\n",
       "    [106.81381953211806, -6.353245015406904],\n",
       "    [106.81381953211806, -6.353424678463727]]]},\n",
       " 'id': '+1189046+70725',\n",
       " 'properties': {'count': 2, 'label': 98}}"
      ]
     },
     "execution_count": 75,
     "metadata": {},
     "output_type": "execute_result"
    }
   ],
   "source": [
    "water_FeatureCollection['features'][0]"
   ]
  },
  {
   "cell_type": "code",
   "execution_count": null,
   "metadata": {},
   "outputs": [],
   "source": [
    "from gbdxtools.task import env\n",
    "from gbdxtools import CatalogImage\n",
    "%matplotlib inline\n",
    "\n",
    "catalog_id = env.inputs.get('catalog_id', '10300100996F7F00')\n",
    "bbox = env.inputs.get('bbox', '106.89491271972658, -6.123145498606175, 106.95945739746095, -6.0794491137500195')\n",
    "\n",
    "image = CatalogImage(catalog_id, band_type=\"MS\", bbox=map(float, bbox.split(\",\")))\n",
    "image.plot(w=10, h=10)"
   ]
  },
  {
   "cell_type": "code",
   "execution_count": 80,
   "metadata": {},
   "outputs": [
    {
     "name": "stdout",
     "output_type": "stream",
     "text": [
      "0  :  2\n",
      "1  :  3\n",
      "2  :  4\n",
      "3  :  2\n",
      "4  :  4\n",
      "5  :  28\n",
      "6  :  4\n",
      "7  :  12\n",
      "8  :  10\n",
      "9  :  3\n",
      "10  :  1174\n",
      "11  :  76\n",
      "12  :  1\n",
      "13  :  1\n",
      "14  :  297\n",
      "15  :  2\n",
      "16  :  3\n",
      "17  :  25964\n"
     ]
    },
    {
     "data": {
      "image/svg+xml": [
       "<svg xmlns=\"http://www.w3.org/2000/svg\" xmlns:xlink=\"http://www.w3.org/1999/xlink\" width=\"100.0\" height=\"100.0\" viewBox=\"106.81381234559579 -6.353431864986001 0.00010420457293491836 0.0001940361013703651\" preserveAspectRatio=\"xMinYMin meet\"><g transform=\"matrix(1,0,0,-1,0,-12.70666969387063)\"><path fill-rule=\"evenodd\" fill=\"#66cc99\" stroke=\"#555555\" stroke-width=\"3.880722027407302e-06\" opacity=\"0.6\" d=\"M 106.81381953211806,-6.353424678463727 L 106.81390936364646,-6.353424678463727 L 106.81390936364646,-6.353245015406904 L 106.81381953211806,-6.353245015406904 L 106.81381953211806,-6.353424678463727 z\" /></g></svg>"
      ],
      "text/plain": [
       "<shapely.geometry.polygon.Polygon at 0x7f736e92a780>"
      ]
     },
     "execution_count": 80,
     "metadata": {},
     "output_type": "execute_result"
    }
   ],
   "source": [
    "from shapely.geometry import shape\n",
    "\n",
    "i = 0\n",
    "\n",
    "for feature in water_FeatureCollection['features']:\n",
    "    \n",
    "    print(i, ' : ', feature['properties']['count'])\n",
    "    \n",
    "    i += 1\n",
    "\n"
   ]
  },
  {
   "cell_type": "code",
   "execution_count": 85,
   "metadata": {},
   "outputs": [
    {
     "data": {
      "image/svg+xml": [
       "<svg xmlns=\"http://www.w3.org/2000/svg\" xmlns:xlink=\"http://www.w3.org/1999/xlink\" width=\"100.0\" height=\"100.0\" viewBox=\"106.8214372457274 -6.350837530445464 0.0017427316511771096 0.002910541520548371\" preserveAspectRatio=\"xMinYMin meet\"><g transform=\"matrix(1,0,0,-1,0,-12.698764519370378)\"><path fill-rule=\"evenodd\" fill=\"#66cc99\" stroke=\"#555555\" stroke-width=\"5.821083041096742e-05\" opacity=\"0.6\" d=\"M 106.82190436967512,-6.350729732611369 L 106.82217386426036,-6.350729732611369 L 106.82217386426036,-6.350639901082957 L 106.82226369578878,-6.350639901082957 L 106.82226369578878,-6.350550069554545 L 106.82235352731719,-6.350550069554545 L 106.82235352731719,-6.350639901082957 L 106.8224433588456,-6.350639901082957 L 106.8224433588456,-6.350550069554545 L 106.82253319037402,-6.350550069554545 L 106.82253319037402,-6.350011080384073 L 106.82262302190243,-6.350011080384073 L 106.82262302190243,-6.349651754270425 L 106.82253319037402,-6.349651754270425 L 106.82253319037402,-6.349561922742014 L 106.8224433588456,-6.349561922742014 L 106.8224433588456,-6.349472091213602 L 106.82235352731719,-6.349472091213602 L 106.82235352731719,-6.349292428156778 L 106.8224433588456,-6.349292428156778 L 106.8224433588456,-6.349202596628366 L 106.82253319037402,-6.349202596628366 L 106.82253319037402,-6.349022933571542 L 106.82262302190243,-6.349022933571542 L 106.82262302190243,-6.34893310204313 L 106.82271285343084,-6.34893310204313 L 106.82271285343084,-6.348843270514718 L 106.82280268495924,-6.348843270514718 L 106.82280268495924,-6.348663607457894 L 106.82289251648766,-6.348663607457894 L 106.82289251648766,-6.3485737759294825 L 106.82298234801607,-6.3485737759294825 L 106.82298234801607,-6.348304281344246 L 106.82307217954448,-6.348304281344246 L 106.82307217954448,-6.3481246182874225 L 106.82226369578878,-6.3481246182874225 L 106.82226369578878,-6.34803478675901 L 106.82199420120354,-6.34803478675901 L 106.82199420120354,-6.3481246182874225 L 106.82181453814671,-6.3481246182874225 L 106.82181453814671,-6.348214449815835 L 106.82172470661831,-6.348214449815835 L 106.82172470661831,-6.34848394440107 L 106.8216348750899,-6.34848394440107 L 106.8216348750899,-6.349022933571542 L 106.82154504356149,-6.349022933571542 L 106.82154504356149,-6.349292428156778 L 106.8216348750899,-6.349292428156778 L 106.8216348750899,-6.349921248855662 L 106.82172470661831,-6.349921248855662 L 106.82172470661831,-6.350011080384073 L 106.82181453814671,-6.350011080384073 L 106.82181453814671,-6.350190743440898 L 106.82190436967512,-6.350190743440898 L 106.82190436967512,-6.350280574969309 L 106.82199420120354,-6.350280574969309 L 106.82199420120354,-6.350550069554545 L 106.82190436967512,-6.350550069554545 L 106.82190436967512,-6.350729732611369 z\" /></g></svg>"
      ],
      "text/plain": [
       "<shapely.geometry.polygon.Polygon at 0x7f736cacc6a0>"
      ]
     },
     "execution_count": 85,
     "metadata": {},
     "output_type": "execute_result"
    }
   ],
   "source": [
    "shape(water_FeatureCollection['features'][14]['geometry'])"
   ]
  },
  {
   "cell_type": "code",
   "execution_count": 42,
   "metadata": {},
   "outputs": [
    {
     "data": {
      "text/html": [
       "<img src=\"https://earthengine.googleapis.com/api/thumb?thumbid=fc9d65e377f0fafc6f14090413534b0a&token=31266639d4761c1d679b7566366b6296\"/>"
      ],
      "text/plain": [
       "<IPython.core.display.Image object>"
      ]
     },
     "execution_count": 42,
     "metadata": {},
     "output_type": "execute_result"
    }
   ],
   "source": [
    "# visualize resulting image\n",
    "url=collection.first().getThumbUrl({\n",
    "    'region':rect_JSON,\n",
    "#     'min':-25,\n",
    "#     'max':0,\n",
    "#     'palette':['0784b5', '39ace7']\n",
    "})\n",
    "\n",
    "Image(url=url)"
   ]
  },
  {
   "cell_type": "code",
   "execution_count": 83,
   "metadata": {},
   "outputs": [],
   "source": [
    "import folium"
   ]
  },
  {
   "cell_type": "code",
   "execution_count": 84,
   "metadata": {},
   "outputs": [
    {
     "ename": "NameError",
     "evalue": "name 'bbox' is not defined",
     "output_type": "error",
     "traceback": [
      "\u001b[0;31m---------------------------------------------------------------------------\u001b[0m",
      "\u001b[0;31mNameError\u001b[0m                                 Traceback (most recent call last)",
      "\u001b[0;32m<ipython-input-84-e57274c43e0b>\u001b[0m in \u001b[0;36m<module>\u001b[0;34m\u001b[0m\n\u001b[0;32m----> 1\u001b[0;31m \u001b[0mbbox_list_str\u001b[0m \u001b[0;34m=\u001b[0m \u001b[0mbbox\u001b[0m\u001b[0;34m.\u001b[0m\u001b[0msplit\u001b[0m\u001b[0;34m(\u001b[0m\u001b[0;34m','\u001b[0m\u001b[0;34m)\u001b[0m\u001b[0;34m\u001b[0m\u001b[0m\n\u001b[0m\u001b[1;32m      2\u001b[0m \u001b[0mbbox\u001b[0m \u001b[0;34m=\u001b[0m \u001b[0;34m[\u001b[0m\u001b[0mfloat\u001b[0m\u001b[0;34m(\u001b[0m\u001b[0mbbox_list_str\u001b[0m\u001b[0;34m[\u001b[0m\u001b[0;36m0\u001b[0m\u001b[0;34m]\u001b[0m\u001b[0;34m)\u001b[0m\u001b[0;34m,\u001b[0m\u001b[0mfloat\u001b[0m\u001b[0;34m(\u001b[0m\u001b[0mbbox_list_str\u001b[0m\u001b[0;34m[\u001b[0m\u001b[0;36m1\u001b[0m\u001b[0;34m]\u001b[0m\u001b[0;34m)\u001b[0m\u001b[0;34m,\u001b[0m\u001b[0mfloat\u001b[0m\u001b[0;34m(\u001b[0m\u001b[0mbbox_list_str\u001b[0m\u001b[0;34m[\u001b[0m\u001b[0;36m2\u001b[0m\u001b[0;34m]\u001b[0m\u001b[0;34m)\u001b[0m\u001b[0;34m,\u001b[0m\u001b[0mfloat\u001b[0m\u001b[0;34m(\u001b[0m\u001b[0mbbox_list_str\u001b[0m\u001b[0;34m[\u001b[0m\u001b[0;36m3\u001b[0m\u001b[0;34m]\u001b[0m\u001b[0;34m)\u001b[0m\u001b[0;34m]\u001b[0m\u001b[0;34m\u001b[0m\u001b[0m\n",
      "\u001b[0;31mNameError\u001b[0m: name 'bbox' is not defined"
     ]
    }
   ],
   "source": [
    "bbox_list_str = bbox.split(',')\n",
    "bbox = [float(bbox_list_str[0]),float(bbox_list_str[1]),float(bbox_list_str[2]),float(bbox_list_str[3])]\n"
   ]
  },
  {
   "cell_type": "code",
   "execution_count": null,
   "metadata": {},
   "outputs": [],
   "source": [
    "m = folium.Map([(bbox[1] + bbox[3])/2, (bbox[0] + bbox[2])/2],  zoom_start = 16, \n",
    "               tiles = 'https://{s}.basemaps.cartocdn.com/light_nolabels/{z}/{x}/{y}{r}.png',\n",
    "              attr='CartoDB', name = 'cartocdn')\n",
    "\n",
    "folium.TileLayer('https://server.arcgisonline.com/ArcGIS/rest/services/World_Imagery/MapServer/tile/{z}/{y}/{x}',attr='esri', name = 'esri Imagery').add_to(m)\n",
    "\n",
    "\n",
    "# folium.raster_layers.ImageOverlay(\n",
    "#     image=image.rgb(),\n",
    "#     name='image 2017',\n",
    "#     bounds=[[bbox[1], bbox[0]],[bbox[3],bbox[2]]],\n",
    "#     opacity=1,\n",
    "#     interactive=False,\n",
    "#     cross_origin=False,\n",
    "#     zindex=1, \n",
    "#     colormap=lambda x: (0,0,0, x)\n",
    "# ).add_to(m)\n",
    "\n",
    "# folium.raster_layers.ImageOverlay(\n",
    "#     image=classification_plot,\n",
    "#     name='Classification 2017',\n",
    "#     bounds=[[bbox[1], bbox[0]],[bbox[3],bbox[2]]],\n",
    "#     opacity=1,\n",
    "#     interactive=False,\n",
    "#     cross_origin=False,\n",
    "#     zindex=1, \n",
    "#     colormap=lambda x: (0,x,x, 1)\n",
    "# ).add_to(m)\n",
    "\n",
    "\n",
    "folium.Choropleth(setu_wgs, name = 'Setu water delineation').add_to(m)\n",
    "\n",
    "folium.Choropleth(setu_smooth, name = 'Smooth setu delineation').add_to(m)\n",
    "\n",
    "folium.Choropleth(setu_poly, name = 'setu poly').add_to(m)\n",
    "\n",
    "# f_smooth = [0.00001,0.00002,0.00003,0.00004,0.00006,0.00008]\n",
    "\n",
    "# for i in f_smooth:\n",
    "#     setu_smooth = setu_wgs.simplify(i)\n",
    "#     folium.Choropleth(setu_smooth, name = 'smooth setu delineation'.format(i)).add_to(m)\n",
    "# # \n",
    "\n",
    "# for point in range(0, len(locationlist)):\n",
    "#     folium.Marker(locationlist[point], popup=df['ActualDBH'][point], group  = \"Tree removals\").add_to(m)\n",
    "\n",
    "folium.LayerControl().add_to(m)"
   ]
  },
  {
   "cell_type": "code",
   "execution_count": null,
   "metadata": {},
   "outputs": [],
   "source": [
    "from gbdxtools.task import env\n",
    "from gbdxtools import CatalogImage\n",
    "%matplotlib inline\n",
    "\n",
    "catalog_id = env.inputs.get('catalog_id', '1030010085B5FC00')\n",
    "bbox = env.inputs.get('bbox', '106.89491271972658, -6.123145498606175, 106.95945739746095, -6.0794491137500195')\n",
    "\n",
    "image = CatalogImage(catalog_id, band_type=\"MS\", bbox=map(float, bbox.split(\",\")))\n",
    "image.plot(w=10, h=10)"
   ]
  },
  {
   "cell_type": "code",
   "execution_count": null,
   "metadata": {},
   "outputs": [],
   "source": [
    "from gbdxtools.task import env\n",
    "from gbdxtools import CatalogImage\n",
    "%matplotlib inline\n",
    "\n",
    "catalog_id = env.inputs.get('catalog_id', '103001009A066100')\n",
    "bbox = env.inputs.get('bbox', '106.89491271972658, -6.123145498606175, 106.95945739746095, -6.0794491137500195')\n",
    "\n",
    "image = CatalogImage(catalog_id, band_type=\"MS\", bbox=map(float, bbox.split(\",\")))\n",
    "image.plot(w=10, h=10)"
   ]
  },
  {
   "cell_type": "code",
   "execution_count": null,
   "metadata": {},
   "outputs": [],
   "source": []
  }
 ],
 "metadata": {
  "kernelspec": {
   "display_name": "Python 3",
   "language": "python",
   "name": "python3"
  },
  "language_info": {
   "codemirror_mode": {
    "name": "ipython",
    "version": 3
   },
   "file_extension": ".py",
   "mimetype": "text/x-python",
   "name": "python",
   "nbconvert_exporter": "python",
   "pygments_lexer": "ipython3",
   "version": "3.7.6"
  }
 },
 "nbformat": 4,
 "nbformat_minor": 2
}
